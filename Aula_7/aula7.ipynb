{
  "cells": [
    {
      "cell_type": "code",
      "execution_count": null,
      "metadata": {
        "id": "50JsPxLn4Tsc"
      },
      "outputs": [],
      "source": [
        "#fcn-train1.py\n",
        "#Treina rede fcn para segmentacao semantica de eliret\n",
        "import os; os.environ['TF_CPP_MIN_LOG_LEVEL']='3'\n",
        "os.environ['TF_FORCE_GPU_ALLOW_GROWTH'] = 'true'\n",
        "from tensorflow import keras\n",
        "from keras.models import *\n",
        "from keras.layers import *\n",
        "from keras.optimizers import *\n",
        "import sys; import cv2; import numpy as np; import matplotlib.pyplot as plt"
      ]
    },
    {
      "cell_type": "code",
      "execution_count": null,
      "metadata": {
        "colab": {
          "base_uri": "https://localhost:8080/"
        },
        "id": "JKddJ-MQ4VL9",
        "outputId": "8c2e6b68-4fba-4bca-a06c-26c3d9612967"
      },
      "outputs": [
        {
          "name": "stdout",
          "output_type": "stream",
          "text": [
            "O arquivo segm_eliret.zip ja existe no diretorio default /content\n",
            "Descompactando arquivos novos de segm_eliret.zip\n"
          ]
        },
        {
          "data": {
            "text/plain": [
              "0"
            ]
          },
          "execution_count": 122,
          "metadata": {},
          "output_type": "execute_result"
        }
      ],
      "source": [
        "#Descarregar segm_eliret.zip\n",
        "url='http://www.lps.usp.br/hae/apostila/segm_eliret.zip'\n",
        "import os; nomeArq=os.path.split(url)[1]\n",
        "if not os.path.exists(nomeArq):\n",
        "  print(\"Baixando o arquivo\",nomeArq,\"para diretorio default\",os.getcwd())\n",
        "  os.system(\"wget -nc -U 'Firefox/50.0' \"+url)\n",
        "else:\n",
        "  print(\"O arquivo\",nomeArq,\"ja existe no diretorio default\",os.getcwd())\n",
        "print(\"Descompactando arquivos novos de\",nomeArq)  \n",
        "os.system(\"unzip -u \"+nomeArq) "
      ]
    },
    {
      "cell_type": "code",
      "execution_count": null,
      "metadata": {
        "id": "6hWiDHvQ4Tsf"
      },
      "outputs": [],
      "source": [
        "def impHistoria(history):\n",
        "    print(history.history.keys())\n",
        "    plt.plot(history.history['loss'])\n",
        "    plt.plot(history.history['val_loss'])\n",
        "    plt.title('model loss'); plt.ylabel('loss'); plt.xlabel('epoch')\n",
        "    plt.legend(['train', 'test'], loc='upper left')\n",
        "    plt.show()\n",
        "    \n",
        "def leCsv(nomeDir,nomeArq):\n",
        "    print(\"Lendo: \",nomeArq); arq=open(os.path.join(nomeDir,nomeArq),\"r\")\n",
        "    lines=arq.readlines(); arq.close(); n=len(lines)\n",
        "    #print(lines)\n",
        "    nl,nc = 32,32\n",
        "    AX=np.empty((n,nl,nc),dtype='uint8'); AY=np.empty((n,nl,nc),dtype='uint8')\n",
        "    i=0\n",
        "    for linha in lines:\n",
        "        linha=linha.strip('\\n'); linha=linha.split(';')\n",
        "        AX[i]=cv2.imread(os.path.join(nomeDir,linha[0]),cv2.IMREAD_GRAYSCALE)\n",
        "        AY[i]=cv2.imread(os.path.join(nomeDir,linha[1]),cv2.IMREAD_GRAYSCALE)\n",
        "        i=i+1\n",
        "    ax= np.float32(AX)/255.0; ay= np.float32(AY)/255.0 #Entre 0 e +1\n",
        "    ax = ax.reshape(n, nl, nc, 1); ay = ay.reshape(n, nl, nc, 1)\n",
        "    return ax, ay"
      ]
    },
    {
      "cell_type": "code",
      "execution_count": null,
      "metadata": {
        "colab": {
          "base_uri": "https://localhost:8080/"
        },
        "id": "Q3qbtmnb4Tsi",
        "outputId": "25f5b59e-8796-4449-f0d4-d72ca7f4b70c"
      },
      "outputs": [
        {
          "name": "stdout",
          "output_type": "stream",
          "text": [
            "Lendo:  treino.csv\n",
            "Lendo:  valida.csv\n",
            "Lendo:  teste.csv\n"
          ]
        }
      ],
      "source": [
        "bdDir = \".\"\n",
        "ax, ay = leCsv(bdDir,\"treino.csv\")\n",
        "vx, vy = leCsv(bdDir,\"valida.csv\")\n",
        "qx, qy = leCsv(bdDir,\"teste.csv\")\n",
        "outDir = \".\"; os.chdir(outDir)\n",
        "nl,nc = 32,32; input_shape = (nl,nc,1)"
      ]
    },
    {
      "cell_type": "code",
      "execution_count": null,
      "metadata": {
        "id": "6smAc5Z4_Rc4"
      },
      "outputs": [],
      "source": [
        "def fcnet(input_size = (32,32,1)):\n",
        "    inputs = Input(input_size) #32x32\n",
        "    conv2 = Conv2D(40, 5, activation = 'relu', strides=2, padding = 'same' )(inputs) #16x16\n",
        "    \n",
        "    conv3 = Conv2D(12, 5, activation = 'relu', strides=2, padding = 'same' )(conv2) #8x8\n",
        "    drop3 = Dropout(0.25)(conv3)\n",
        "    \n",
        "    conv4 = Conv2D(12, 5, activation = 'relu', strides=2, padding = 'same' )(drop3) #4x4\n",
        "    drop4 = Dropout(0.25)(conv4)\n",
        "    \n",
        "    conv6 = Conv2DTranspose(12, 5, activation = 'relu', strides=2, padding = 'same' )(drop4) #8x8\n",
        "    \n",
        "    conv7 = Conv2DTranspose(40, 5, activation = 'relu', strides=2, padding = 'same' )(conv6) #16x16\n",
        "    drop7 = Dropout(0.25)(conv7)\n",
        "    \n",
        "    conv8 = Conv2DTranspose(1, 5, activation = 'relu', strides=2, padding = 'same' )(drop7) #32x32\n",
        "    \n",
        "    model = Model(inputs = inputs, outputs = conv8)\n",
        "    model.compile(optimizer = keras.optimizers.Adam(learning_rate=1e-3), loss = 'mean_squared_error')\n",
        "    from tensorflow.keras.utils import plot_model\n",
        "    plot_model(model, to_file='fcnet-train1.png', show_shapes=True)\n",
        "    model.summary()\n",
        "    return model"
      ]
    },
    {
      "cell_type": "markdown",
      "metadata": {
        "id": "zn66GNoK_RAA"
      },
      "source": []
    },
    {
      "cell_type": "code",
      "execution_count": null,
      "metadata": {
        "id": "XW-qDDgF4Tsj"
      },
      "outputs": [],
      "source": [
        "def unet(input_size = (32,32,1)):\n",
        "    inputs = Input(input_size) #32x32\n",
        "    conv2 = Conv2D(40, 5, activation = 'relu', strides=2, padding = 'same' )(inputs) #16x16\n",
        "    \n",
        "    conv3 = Conv2D(12, 5, activation = 'relu', strides=2, padding = 'same' )(conv2) #8x8\n",
        "    drop3 = Dropout(0.25)(conv3)\n",
        "    \n",
        "    conv4 = Conv2D(12, 5, activation = 'relu', strides=2, padding = 'same' )(drop3) #4x4\n",
        "    drop4 = Dropout(0.25)(conv4)\n",
        "    \n",
        "    conv6 = Conv2DTranspose(12, 5, activation = 'relu', strides=2, padding = 'same' )(drop4) #8x8\n",
        "    \n",
        "    merge7 = concatenate([conv3,conv6], axis = 3)\n",
        "    conv7 = Conv2DTranspose(40, 5, activation = 'relu', strides=2, padding = 'same' )(merge7) #16x16\n",
        "    drop7 = Dropout(0.25)(conv7)\n",
        "    \n",
        "    merge8 = concatenate([conv2,drop7], axis = 3) #8x8\n",
        "    conv8 = Conv2DTranspose(1, 5, activation = 'relu', strides=2, padding = 'same' )(merge8) #32x32\n",
        "    \n",
        "    model = Model(inputs = inputs, outputs = conv8)\n",
        "    model.compile(optimizer = keras.optimizers.Adam(learning_rate=1e-3), loss = 'mean_squared_error')\n",
        "    from tensorflow.keras.utils import plot_model\n",
        "    plot_model(model, to_file='unet-train1.png', show_shapes=True)\n",
        "    model.summary()\n",
        "    return model"
      ]
    },
    {
      "cell_type": "code",
      "execution_count": null,
      "metadata": {
        "colab": {
          "base_uri": "https://localhost:8080/"
        },
        "id": "iNwrRR83_XdT",
        "outputId": "d30ef5e6-0527-4748-c2c6-d9aa5c2377bd"
      },
      "outputs": [
        {
          "name": "stdout",
          "output_type": "stream",
          "text": [
            "Model: \"model_14\"\n",
            "_________________________________________________________________\n",
            " Layer (type)                Output Shape              Param #   \n",
            "=================================================================\n",
            " input_21 (InputLayer)       [(None, 32, 32, 1)]       0         \n",
            "                                                                 \n",
            " conv2d_147 (Conv2D)         (None, 16, 16, 40)        1040      \n",
            "                                                                 \n",
            " conv2d_148 (Conv2D)         (None, 8, 8, 12)          12012     \n",
            "                                                                 \n",
            " dropout_41 (Dropout)        (None, 8, 8, 12)          0         \n",
            "                                                                 \n",
            " conv2d_149 (Conv2D)         (None, 4, 4, 12)          3612      \n",
            "                                                                 \n",
            " dropout_42 (Dropout)        (None, 4, 4, 12)          0         \n",
            "                                                                 \n",
            " conv2d_transpose_29 (Conv2D  (None, 8, 8, 12)         3612      \n",
            " Transpose)                                                      \n",
            "                                                                 \n",
            " conv2d_transpose_30 (Conv2D  (None, 16, 16, 40)       12040     \n",
            " Transpose)                                                      \n",
            "                                                                 \n",
            " dropout_43 (Dropout)        (None, 16, 16, 40)        0         \n",
            "                                                                 \n",
            " conv2d_transpose_31 (Conv2D  (None, 32, 32, 1)        1001      \n",
            " Transpose)                                                      \n",
            "                                                                 \n",
            "=================================================================\n",
            "Total params: 33,317\n",
            "Trainable params: 33,317\n",
            "Non-trainable params: 0\n",
            "_________________________________________________________________\n"
          ]
        }
      ],
      "source": [
        "batch_size = 20; epochs = 1000\n",
        "model=fcnet()\n",
        "opt=keras.optimizers.Adam()\n",
        "model.compile(optimizer=opt, loss='mean_squared_error')"
      ]
    },
    {
      "cell_type": "code",
      "execution_count": null,
      "metadata": {
        "colab": {
          "base_uri": "https://localhost:8080/",
          "height": 312
        },
        "id": "3te95N4W5K_k",
        "outputId": "486877a4-3e53-4f8b-9796-77793e7fbdbe"
      },
      "outputs": [
        {
          "name": "stdout",
          "output_type": "stream",
          "text": [
            "dict_keys(['loss', 'val_loss'])\n"
          ]
        },
        {
          "data": {
            "image/png": "[encoded data removed]",
            "text/plain": [
              "<Figure size 432x288 with 1 Axes>"
            ]
          },
          "metadata": {
            "needs_background": "light"
          },
          "output_type": "display_data"
        }
      ],
      "source": [
        "history=model.fit(ax, ay, batch_size=batch_size, epochs=epochs, verbose=0, validation_data=(vx,vy))\n",
        "impHistoria(history)"
      ]
    },
    {
      "cell_type": "code",
      "execution_count": null,
      "metadata": {
        "colab": {
          "base_uri": "https://localhost:8080/"
        },
        "id": "M8ASOTlO4Tsm",
        "outputId": "91b122d5-9645-4099-be4d-4d4243ddd8bd"
      },
      "outputs": [
        {
          "name": "stdout",
          "output_type": "stream",
          "text": [
            "Training loss: 0.0033260860946029425\n",
            "Validation loss: 0.014462471008300781\n",
            "Test loss: 0.015097904950380325\n"
          ]
        }
      ],
      "source": [
        "score = model.evaluate(ax, ay, verbose=0); print('Training loss:', score)\n",
        "score = model.evaluate(vx, vy, verbose=0); print('Validation loss:', score)\n",
        "score = model.evaluate(qx, qy, verbose=0); print('Test loss:', score)\n",
        "model.save('fcn-train1.h5')"
      ]
    },
    {
      "cell_type": "code",
      "execution_count": null,
      "metadata": {
        "colab": {
          "base_uri": "https://localhost:8080/"
        },
        "id": "Q-e75ZdT4Tsl",
        "outputId": "61e6686f-ce96-47fc-85e7-a44ec5c71044"
      },
      "outputs": [
        {
          "name": "stdout",
          "output_type": "stream",
          "text": [
            "Model: \"model_15\"\n",
            "__________________________________________________________________________________________________\n",
            " Layer (type)                   Output Shape         Param #     Connected to                     \n",
            "==================================================================================================\n",
            " input_22 (InputLayer)          [(None, 32, 32, 1)]  0           []                               \n",
            "                                                                                                  \n",
            " conv2d_150 (Conv2D)            (None, 16, 16, 40)   1040        ['input_22[0][0]']               \n",
            "                                                                                                  \n",
            " conv2d_151 (Conv2D)            (None, 8, 8, 12)     12012       ['conv2d_150[0][0]']             \n",
            "                                                                                                  \n",
            " dropout_44 (Dropout)           (None, 8, 8, 12)     0           ['conv2d_151[0][0]']             \n",
            "                                                                                                  \n",
            " conv2d_152 (Conv2D)            (None, 4, 4, 12)     3612        ['dropout_44[0][0]']             \n",
            "                                                                                                  \n",
            " dropout_45 (Dropout)           (None, 4, 4, 12)     0           ['conv2d_152[0][0]']             \n",
            "                                                                                                  \n",
            " conv2d_transpose_32 (Conv2DTra  (None, 8, 8, 12)    3612        ['dropout_45[0][0]']             \n",
            " nspose)                                                                                          \n",
            "                                                                                                  \n",
            " concatenate_34 (Concatenate)   (None, 8, 8, 24)     0           ['conv2d_151[0][0]',             \n",
            "                                                                  'conv2d_transpose_32[0][0]']    \n",
            "                                                                                                  \n",
            " conv2d_transpose_33 (Conv2DTra  (None, 16, 16, 40)  24040       ['concatenate_34[0][0]']         \n",
            " nspose)                                                                                          \n",
            "                                                                                                  \n",
            " dropout_46 (Dropout)           (None, 16, 16, 40)   0           ['conv2d_transpose_33[0][0]']    \n",
            "                                                                                                  \n",
            " concatenate_35 (Concatenate)   (None, 16, 16, 80)   0           ['conv2d_150[0][0]',             \n",
            "                                                                  'dropout_46[0][0]']             \n",
            "                                                                                                  \n",
            " conv2d_transpose_34 (Conv2DTra  (None, 32, 32, 1)   2001        ['concatenate_35[0][0]']         \n",
            " nspose)                                                                                          \n",
            "                                                                                                  \n",
            "==================================================================================================\n",
            "Total params: 46,317\n",
            "Trainable params: 46,317\n",
            "Non-trainable params: 0\n",
            "__________________________________________________________________________________________________\n"
          ]
        }
      ],
      "source": [
        "batch_size = 20; epochs = 1000\n",
        "umodel=unet()\n",
        "opt=keras.optimizers.Adam()\n",
        "umodel.compile(optimizer=opt, loss='mean_squared_error')"
      ]
    },
    {
      "cell_type": "code",
      "execution_count": null,
      "metadata": {
        "colab": {
          "base_uri": "https://localhost:8080/",
          "height": 312
        },
        "id": "LUoWD0JH_mTr",
        "outputId": "c94de552-d35d-4521-b84b-ba18844ceae6"
      },
      "outputs": [
        {
          "name": "stdout",
          "output_type": "stream",
          "text": [
            "dict_keys(['loss', 'val_loss'])\n"
          ]
        },
        {
          "data": {
            "image/png": "[encoded data removed]",
            "text/plain": [
              "<Figure size 432x288 with 1 Axes>"
            ]
          },
          "metadata": {
            "needs_background": "light"
          },
          "output_type": "display_data"
        }
      ],
      "source": [
        "history=umodel.fit(ax, ay, batch_size=batch_size, epochs=epochs, verbose=0, validation_data=(vx,vy))\n",
        "impHistoria(history)"
      ]
    },
    {
      "cell_type": "code",
      "execution_count": null,
      "metadata": {
        "colab": {
          "base_uri": "https://localhost:8080/"
        },
        "id": "sP23rwCM_zQA",
        "outputId": "9820a58c-b59c-462b-b2ab-5980f3197235"
      },
      "outputs": [
        {
          "name": "stdout",
          "output_type": "stream",
          "text": [
            "Training loss: 0.0008064776775427163\n",
            "Validation loss: 0.015573889948427677\n",
            "Test loss: 0.013967785984277725\n"
          ]
        }
      ],
      "source": [
        "score = umodel.evaluate(ax, ay, verbose=0); print('Training loss:', score)\n",
        "score = umodel.evaluate(vx, vy, verbose=0); print('Validation loss:', score)\n",
        "score = umodel.evaluate(qx, qy, verbose=0); print('Test loss:', score)\n",
        "umodel.save('ucn-train1.h5')"
      ]
    }
  ],
  "metadata": {
    "accelerator": "GPU",
    "colab": {
      "provenance": []
    },
    "kernelspec": {
      "display_name": "Python 3.10.4 64-bit",
      "language": "python",
      "name": "python3"
    },
    "language_info": {
      "codemirror_mode": {
        "name": "ipython",
        "version": 3
      },
      "file_extension": ".py",
      "mimetype": "text/x-python",
      "name": "python",
      "nbconvert_exporter": "python",
      "pygments_lexer": "ipython3",
      "version": "3.10.4"
    },
    "orig_nbformat": 4,
    "vscode": {
      "interpreter": {
        "hash": "9be826744cc5714b462ad0c8de88bfa6f016a48973c6317b9546595d1685cabb"
      }
    }
  },
  "nbformat": 4,
  "nbformat_minor": 0
}
