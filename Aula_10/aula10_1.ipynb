{
 "cells": [
  {
   "cell_type": "code",
   "execution_count": null,
   "metadata": {},
   "outputs": [],
   "source": [
    "#resnet_transf.py \n",
    "#Faz transfer learning usando ResNet50.\n",
    "#https://medium.com/abraia/first-steps-with-transfer-learning-for-custom-image-classification-with-keras-b941601fcad5\n",
    "import os; os.environ['TF_CPP_MIN_LOG_LEVEL']='3'\n",
    "os.environ['TF_FORCE_GPU_ALLOW_GROWTH'] = 'true'\n",
    "import numpy as np;\n",
    "import keras as keras; import keras.backend as K;\n",
    "from keras import optimizers, callbacks, regularizers;\n",
    "from keras.regularizers import l2;\n",
    "from keras.models import Sequential, Model;\n",
    "from keras.layers import Dropout, Conv2D, MaxPooling2D, Dense, Flatten;\n",
    "from keras.applications.resnet50 import ResNet50, preprocess_input, decode_predictions\n",
    "from keras.preprocessing import image"
   ]
  },
  {
   "cell_type": "code",
   "execution_count": null,
   "metadata": {},
   "outputs": [],
   "source": [
    "def leCsv(nomeDir, nomeArq, nl=0, nc=0):\n",
    "    st=os.path.join(nomeDir,nomeArq);\n",
    "    arq=open(st,\"rt\"); lines=arq.readlines(); arq.close(); n=len(lines)\n",
    "    linhas_separadas=[]\n",
    "    for linha in lines:\n",
    "       linha=linha.strip('\\n'); linha=linha.split(';'); linhas_separadas.append(linha);\n",
    "    ay=np.empty((n),dtype='float32'); ax=np.empty((n,nl,nc,3),dtype='float32');\n",
    "    for i in range(len(linhas_separadas)):\n",
    "       linha=linhas_separadas[i];\n",
    "       img_path=os.path.join(nomeDir,linha[0])\n",
    "       t = image.load_img(img_path, target_size=(nl,nc))\n",
    "       x = image.img_to_array(t)\n",
    "       x = np.expand_dims(x, axis=0)\n",
    "       ax[i] = preprocess_input(x)\n",
    "       ay[i] = np.float32(linha[1]); #0=m ou 1=f\n",
    "    return ax, ay\n"
   ]
  }
 ],
 "metadata": {
  "kernelspec": {
   "display_name": "Python 3.10.4 64-bit",
   "language": "python",
   "name": "python3"
  },
  "language_info": {
   "name": "python",
   "version": "3.10.4"
  },
  "orig_nbformat": 4,
  "vscode": {
   "interpreter": {
    "hash": "9be826744cc5714b462ad0c8de88bfa6f016a48973c6317b9546595d1685cabb"
   }
  }
 },
 "nbformat": 4,
 "nbformat_minor": 2
}
