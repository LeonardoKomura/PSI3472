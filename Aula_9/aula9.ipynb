{
 "cells": [
  {
   "cell_type": "code",
   "execution_count": 3,
   "metadata": {},
   "outputs": [],
   "source": [
    "import os; os.environ['TF_CPP_MIN_LOG_LEVEL']='3'\n",
    "os.environ['TF_FORCE_GPU_ALLOW_GROWTH'] = 'true'\n",
    "import numpy as np;\n",
    "from tensorflow import keras \n",
    "import keras.backend as K\n",
    "from keras.datasets import cifar10\n",
    "from keras.models import Model, load_model\n",
    "from keras.preprocessing.image import ImageDataGenerator"
   ]
  },
  {
   "cell_type": "code",
   "execution_count": 4,
   "metadata": {},
   "outputs": [],
   "source": [
    "num_classes = 10\n",
    "(ax, ay), (qx, qy) = cifar10.load_data()\n",
    "input_shape = (32, 32, 3)\n",
    "ax = ax.astype('float32'); ax /= 255 #0 a 1\n",
    "qx = qx.astype('float32'); qx /= 255 #0 a 1\n",
    "ax -= 0.5; qx -= 0.5 #-0.5 a +0.5\n",
    "ay = keras.utils.to_categorical(ay, num_classes);\n",
    "qy = keras.utils.to_categorical(qy, num_classes)"
   ]
  },
  {
   "cell_type": "code",
   "execution_count": 5,
   "metadata": {},
   "outputs": [],
   "source": [
    "# Fazendo a distorção\n",
    "test_datagen = ImageDataGenerator(\n",
    "    shear_range=0.1,\n",
    "    zoom_range=0.1,\n",
    "    horizontal_flip=True,\n",
    "    rotation_range=10.,\n",
    "    fill_mode='reflect', \n",
    "    width_shift_range = 0.1, \n",
    "    height_shift_range = 0.1\n",
    ")"
   ]
  },
  {
   "cell_type": "code",
   "execution_count": 6,
   "metadata": {},
   "outputs": [],
   "source": [
    "model = load_model(\"resnet1.h5\")"
   ]
  },
  {
   "cell_type": "code",
   "execution_count": 8,
   "metadata": {},
   "outputs": [
    {
     "ename": "ModuleNotFoundError",
     "evalue": "No module named 'tqdm'",
     "output_type": "error",
     "traceback": [
      "\u001b[0;31m---------------------------------------------------------------------------\u001b[0m",
      "\u001b[0;31mModuleNotFoundError\u001b[0m                       Traceback (most recent call last)",
      "\u001b[1;32m/home/leonardo/Documents/Faculdade/PSI3472/Aula_9/aula9.ipynb Cell 5\u001b[0m in \u001b[0;36m<cell line: 4>\u001b[0;34m()\u001b[0m\n\u001b[1;32m      <a href='vscode-notebook-cell:/home/leonardo/Documents/Faculdade/PSI3472/Aula_9/aula9.ipynb#W4sZmlsZQ%3D%3D?line=0'>1</a>\u001b[0m tta_steps \u001b[39m=\u001b[39m \u001b[39m10\u001b[39m\n\u001b[1;32m      <a href='vscode-notebook-cell:/home/leonardo/Documents/Faculdade/PSI3472/Aula_9/aula9.ipynb#W4sZmlsZQ%3D%3D?line=1'>2</a>\u001b[0m predictions \u001b[39m=\u001b[39m []\n\u001b[0;32m----> <a href='vscode-notebook-cell:/home/leonardo/Documents/Faculdade/PSI3472/Aula_9/aula9.ipynb#W4sZmlsZQ%3D%3D?line=3'>4</a>\u001b[0m \u001b[39mfrom\u001b[39;00m \u001b[39mtqdm\u001b[39;00m \u001b[39mimport\u001b[39;00m tqdm\n\u001b[1;32m      <a href='vscode-notebook-cell:/home/leonardo/Documents/Faculdade/PSI3472/Aula_9/aula9.ipynb#W4sZmlsZQ%3D%3D?line=4'>5</a>\u001b[0m \u001b[39mfor\u001b[39;00m i \u001b[39min\u001b[39;00m tqdm(\u001b[39mrange\u001b[39m(tta_steps)):\n\u001b[1;32m      <a href='vscode-notebook-cell:/home/leonardo/Documents/Faculdade/PSI3472/Aula_9/aula9.ipynb#W4sZmlsZQ%3D%3D?line=5'>6</a>\u001b[0m     preds \u001b[39m=\u001b[39m model\u001b[39m.\u001b[39mpredict_generator(test_datagen\u001b[39m.\u001b[39mflow(qx, batch_size\u001b[39m=\u001b[39m\u001b[39m64\u001b[39m, shuffle\u001b[39m=\u001b[39m\u001b[39mFalse\u001b[39;00m), steps \u001b[39m=\u001b[39m \u001b[39mlen\u001b[39m(qx)\u001b[39m/\u001b[39m\u001b[39m64\u001b[39m)\n",
      "\u001b[0;31mModuleNotFoundError\u001b[0m: No module named 'tqdm'"
     ]
    }
   ],
   "source": [
    "tta_steps = 10\n",
    "predictions = []\n",
    "\n",
    "from tqdm import tqdm\n",
    "for i in tqdm(range(tta_steps)):\n",
    "    preds = model.predict_generator(test_datagen.flow(qx, batch_size=64, shuffle=False), steps = len(qx)/64)\n",
    "    predictions.append(preds)\n",
    "\n",
    "pred = np.mean(predictions, axis=0)\n",
    "\n",
    "np.mean(np.equal(np.argmax(qy, axis=-1), np.argmax(pred, axis=-1)))"
   ]
  }
 ],
 "metadata": {
  "kernelspec": {
   "display_name": "Python 3.10.4 64-bit",
   "language": "python",
   "name": "python3"
  },
  "language_info": {
   "codemirror_mode": {
    "name": "ipython",
    "version": 3
   },
   "file_extension": ".py",
   "mimetype": "text/x-python",
   "name": "python",
   "nbconvert_exporter": "python",
   "pygments_lexer": "ipython3",
   "version": "3.10.6"
  },
  "orig_nbformat": 4,
  "vscode": {
   "interpreter": {
    "hash": "916dbcbb3f70747c44a77c7bcd40155683ae19c65e1c03b4aa3499c5328201f1"
   }
  }
 },
 "nbformat": 4,
 "nbformat_minor": 2
}
