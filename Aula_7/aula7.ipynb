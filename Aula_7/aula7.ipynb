{
 "cells": [
  {
   "cell_type": "code",
   "execution_count": 1,
   "metadata": {},
   "outputs": [
    {
     "name": "stderr",
     "output_type": "stream",
     "text": [
      "2022-09-12 09:29:17.044206: W tensorflow/stream_executor/platform/default/dso_loader.cc:64] Could not load dynamic library 'libcudart.so.11.0'; dlerror: libcudart.so.11.0: cannot open shared object file: No such file or directory\n",
      "2022-09-12 09:29:17.044237: I tensorflow/stream_executor/cuda/cudart_stub.cc:29] Ignore above cudart dlerror if you do not have a GPU set up on your machine.\n"
     ]
    }
   ],
   "source": [
    "#detect1.py - treino\n",
    "import keras\n",
    "from keras.datasets import mnist\n",
    "from keras.models import Sequential, load_model\n",
    "from keras.layers import Dropout, Conv2D, MaxPooling2D, Dense, Flatten\n",
    "from keras import optimizers\n",
    "import numpy as np\n",
    "import cv2, sys"
   ]
  },
  {
   "cell_type": "code",
   "execution_count": 2,
   "metadata": {},
   "outputs": [
    {
     "name": "stdout",
     "output_type": "stream",
     "text": [
      "localize.py ent.png\n"
     ]
    },
    {
     "ename": "SystemExit",
     "evalue": "",
     "output_type": "error",
     "traceback": [
      "An exception has occurred, use %tb to see the full traceback.\n",
      "\u001b[0;31mSystemExit\u001b[0m\n"
     ]
    },
    {
     "name": "stderr",
     "output_type": "stream",
     "text": [
      "/home/leonardo/.local/lib/python3.10/site-packages/IPython/core/interactiveshell.py:3406: UserWarning: To exit: use 'exit', 'quit', or Ctrl-D.\n",
      "  warn(\"To exit: use 'exit', 'quit', or Ctrl-D.\", stacklevel=1)\n"
     ]
    }
   ],
   "source": [
    "if len(sys.argv)!=2:\n",
    "    print(\"localize.py ent.png\")\n",
    "    sys.exit()"
   ]
  },
  {
   "cell_type": "code",
   "execution_count": null,
   "metadata": {},
   "outputs": [
    {
     "ename": "AttributeError",
     "evalue": "'NoneType' object has no attribute 'shape'",
     "output_type": "error",
     "traceback": [
      "\u001b[0;31m---------------------------------------------------------------------------\u001b[0m",
      "\u001b[0;31mAttributeError\u001b[0m                            Traceback (most recent call last)",
      "\u001b[1;32m/home/leonardo/Documents/Faculdade/PSI3472/Aula_7/aula7.ipynb Cell 3\u001b[0m in \u001b[0;36m<cell line: 3>\u001b[0;34m()\u001b[0m\n\u001b[1;32m      <a href='vscode-notebook-cell:/home/leonardo/Documents/Faculdade/PSI3472/Aula_7/aula7.ipynb#W3sZmlsZQ%3D%3D?line=0'>1</a>\u001b[0m num_classes \u001b[39m=\u001b[39m \u001b[39m10\u001b[39m\n\u001b[1;32m      <a href='vscode-notebook-cell:/home/leonardo/Documents/Faculdade/PSI3472/Aula_7/aula7.ipynb#W3sZmlsZQ%3D%3D?line=1'>2</a>\u001b[0m qx0\u001b[39m=\u001b[39mcv2\u001b[39m.\u001b[39mimread(sys\u001b[39m.\u001b[39margv[\u001b[39m1\u001b[39m],\u001b[39m0\u001b[39m);\n\u001b[0;32m----> <a href='vscode-notebook-cell:/home/leonardo/Documents/Faculdade/PSI3472/Aula_7/aula7.ipynb#W3sZmlsZQ%3D%3D?line=2'>3</a>\u001b[0m nl, nc \u001b[39m=\u001b[39m qx0\u001b[39m.\u001b[39;49mshape[\u001b[39m0\u001b[39m], qx0\u001b[39m.\u001b[39mshape[\u001b[39m1\u001b[39m]\n\u001b[1;32m      <a href='vscode-notebook-cell:/home/leonardo/Documents/Faculdade/PSI3472/Aula_7/aula7.ipynb#W3sZmlsZQ%3D%3D?line=3'>4</a>\u001b[0m input_shape \u001b[39m=\u001b[39m (nl, nc, \u001b[39m1\u001b[39m)\n",
      "\u001b[0;31mAttributeError\u001b[0m: 'NoneType' object has no attribute 'shape'"
     ]
    }
   ],
   "source": [
    "num_classes = 10\n",
    "qx0=cv2.imread(sys.argv[1],0);\n",
    "nl, nc = qx0.shape[0], qx0.shape[1]\n",
    "input_shape = (nl, nc, 1)"
   ]
  },
  {
   "cell_type": "code",
   "execution_count": null,
   "metadata": {},
   "outputs": [],
   "source": [
    "model = Sequential(); #Entrada: 28*28*1\n",
    "model.add(Conv2D(20, kernel_size=(5,5), activation='relu', input_shape=input_shape)) #Saida0:\n",
    "20*24*24\n",
    "model.add(MaxPooling2D(pool_size=(2,2))); #Saida1: 20*12*12\n",
    "model.add(Conv2D(40, kernel_size=(5,5), activation='relu')); #Saida2: 40*8*8\n",
    "model.add(MaxPooling2D(pool_size=(2,2))); #Saida3: 40*4*4\n",
    "model.add(Conv2D(500, kernel_size=(4,4), activation='relu')) #Saida5: 500*1*1\n",
    "model.add(Conv2D(100, kernel_size=(1,1), activation='relu')) #Saida6: 100*1*1\n",
    "model.add(Conv2D(num_classes, kernel_size=(1,1), activation='softmax')) #Saida7: 10*1*1\n",
    "model.load_weights(\"detect1.h5\")"
   ]
  },
  {
   "cell_type": "code",
   "execution_count": null,
   "metadata": {},
   "outputs": [],
   "source": [
    "qx0 = qx0.astype(\"float32\")\n",
    "qx0 /= 255 #0 a 1\n",
    "qx0=qx0.reshape(1,nl,nc,1)\n",
    "qp = model.predict(qx0)\n",
    "print(qp.shape)"
   ]
  },
  {
   "cell_type": "code",
   "execution_count": null,
   "metadata": {},
   "outputs": [],
   "source": [
    "snl, snc = qp.shape[1], qp.shape[2]\n",
    "qp = qp.reshape(snl,snc,10)\n",
    "sai=np.empty([snl,snc],dtype=np.int8)\n",
    "for l in range(snl):\n",
    "    for c in range(snc):\n",
    "        i=np.argmax(qp[l,c,:])\n",
    "        if qp[l,c,i]>0.999:\n",
    "            #print(l,c,i,qp[l,c,i]);\n",
    "            sai[l,c]=i;\n",
    "        else:\n",
    "            sai[l,c]=-1;\n",
    "print(sai)\n",
    "#print(qp)"
   ]
  }
 ],
 "metadata": {
  "kernelspec": {
   "display_name": "Python 3.10.4 64-bit",
   "language": "python",
   "name": "python3"
  },
  "language_info": {
   "codemirror_mode": {
    "name": "ipython",
    "version": 3
   },
   "file_extension": ".py",
   "mimetype": "text/x-python",
   "name": "python",
   "nbconvert_exporter": "python",
   "pygments_lexer": "ipython3",
   "version": "3.10.4"
  },
  "orig_nbformat": 4,
  "vscode": {
   "interpreter": {
    "hash": "916dbcbb3f70747c44a77c7bcd40155683ae19c65e1c03b4aa3499c5328201f1"
   }
  }
 },
 "nbformat": 4,
 "nbformat_minor": 2
}
