{
 "cells": [
  {
   "cell_type": "code",
   "execution_count": 19,
   "metadata": {},
   "outputs": [],
   "source": [
    "#resnet_transf.py \n",
    "#Faz transfer learning usando ResNet50.\n",
    "#https://medium.com/abraia/first-steps-with-transfer-learning-for-custom-image-classification-with-keras-b941601fcad5\n",
    "import os; os.environ['TF_CPP_MIN_LOG_LEVEL']='3'\n",
    "os.environ['TF_FORCE_GPU_ALLOW_GROWTH'] = 'true'\n",
    "import numpy as np;\n",
    "from tensorflow import keras; import keras.backend as K;\n",
    "from keras import optimizers, callbacks, regularizers;\n",
    "from keras.regularizers import l2;\n",
    "from keras.models import Sequential, Model;\n",
    "from keras.layers import Dropout, Conv2D, MaxPooling2D, Dense, Flatten;\n",
    "from keras.applications.resnet import ResNet50, preprocess_input, decode_predictions\n",
    "from keras.utils import load_img, img_to_array"
   ]
  },
  {
   "cell_type": "code",
   "execution_count": 20,
   "metadata": {},
   "outputs": [],
   "source": [
    "def leCsv(nomeDir, nomeArq, nl=0, nc=0):\n",
    "    st=os.path.join(nomeDir,nomeArq);\n",
    "    arq=open(st,\"rt\"); lines=arq.readlines(); arq.close(); n=len(lines)\n",
    "    linhas_separadas=[]\n",
    "    for linha in lines:\n",
    "       linha=linha.strip('\\n'); linha=linha.split(';'); linhas_separadas.append(linha);\n",
    "    ay=np.empty((n),dtype='float32'); ax=np.empty((n,nl,nc,3),dtype='float32');\n",
    "    for i in range(len(linhas_separadas)):\n",
    "       linha=linhas_separadas[i];\n",
    "       img_path=os.path.join(nomeDir,linha[0])\n",
    "       t = load_img(img_path, target_size=(nl,nc))\n",
    "       x = img_to_array(t)\n",
    "       x = np.expand_dims(x, axis=0)\n",
    "       ax[i] = preprocess_input(x)\n",
    "       ay[i] = np.float32(linha[1]); #0=m ou 1=f\n",
    "    return ax, ay\n"
   ]
  },
  {
   "cell_type": "code",
   "execution_count": 21,
   "metadata": {},
   "outputs": [],
   "source": [
    "#<<<<<<<<<<<<<<<<<<<<<<<< main <<<<<<<<<<<<<<<<<<<<<<<<<<<<<<<<<<\n",
    "nomeprog=\"resnet_transf\"\n",
    "#Original: 280x200, redimensionado: 224x224\n",
    "num_classes=2; nl=224; nc=224\n",
    "diretorioBd=\"Dados\"\n",
    "ax, ay = leCsv(diretorioBd,\"treino.csv\", nl=nl, nc=nc); #200 imagens\n",
    "qx, qy = leCsv(diretorioBd,\"teste.csv\", nl=nl, nc=nc); #100 imagens\n",
    "vx, vy = leCsv(diretorioBd,\"valida.csv\", nl=nl, nc=nc); #100 imagens\n",
    "ay = keras.utils.to_categorical(ay, num_classes)\n",
    "qy = keras.utils.to_categorical(qy, num_classes)\n",
    "vy = keras.utils.to_categorical(vy, num_classes)"
   ]
  },
  {
   "cell_type": "code",
   "execution_count": 22,
   "metadata": {},
   "outputs": [],
   "source": [
    "input_shape = (nl,nc,3); batch_size = 10;\n",
    "base_model = ResNet50(weights='imagenet', include_top=False, input_shape=input_shape)\n",
    "# base_model.summary()\n",
    "x = base_model.output\n",
    "x = Flatten()(x)\n",
    "avg_pool_2d = keras.layers.AveragePooling2D(pool_size=(2, 2), strides=(1, 1), padding='valid')\n",
    "x = avg_pool_2d(100, activation=\"relu\")(x)\n",
    "predictions = Dense(num_classes, activation=\"softmax\")(x)\n",
    "model = Model(inputs=base_model.input, outputs=predictions)"
   ]
  },
  {
   "cell_type": "code",
   "execution_count": 23,
   "metadata": {},
   "outputs": [
    {
     "name": "stdout",
     "output_type": "stream",
     "text": [
      "Epoch 1/5\n"
     ]
    },
    {
     "ename": "KeyError",
     "evalue": "'model_1/conv2_block1_2_conv/Conv2D'",
     "output_type": "error",
     "traceback": [
      "\u001b[1;31m---------------------------------------------------------------------------\u001b[0m",
      "\u001b[1;31mKeyError\u001b[0m                                  Traceback (most recent call last)",
      "\u001b[1;32md:\\Faculdade\\PSI3472\\Aula_10\\aula10_1.ipynb Célula: 5\u001b[0m in \u001b[0;36m<cell line: 6>\u001b[1;34m()\u001b[0m\n\u001b[0;32m      <a href='vscode-notebook-cell:/d%3A/Faculdade/PSI3472/Aula_10/aula10_1.ipynb#W4sZmlsZQ%3D%3D?line=3'>4</a>\u001b[0m otimizador\u001b[39m=\u001b[39mkeras\u001b[39m.\u001b[39moptimizers\u001b[39m.\u001b[39mAdam(learning_rate\u001b[39m=\u001b[39m\u001b[39m1e-3\u001b[39m)\n\u001b[0;32m      <a href='vscode-notebook-cell:/d%3A/Faculdade/PSI3472/Aula_10/aula10_1.ipynb#W4sZmlsZQ%3D%3D?line=4'>5</a>\u001b[0m model\u001b[39m.\u001b[39mcompile(otimizador, loss\u001b[39m=\u001b[39m\u001b[39m'\u001b[39m\u001b[39mcategorical_crossentropy\u001b[39m\u001b[39m'\u001b[39m, metrics \u001b[39m=\u001b[39m[\u001b[39m'\u001b[39m\u001b[39maccuracy\u001b[39m\u001b[39m'\u001b[39m])\n\u001b[1;32m----> <a href='vscode-notebook-cell:/d%3A/Faculdade/PSI3472/Aula_10/aula10_1.ipynb#W4sZmlsZQ%3D%3D?line=5'>6</a>\u001b[0m model\u001b[39m.\u001b[39;49mfit(ax, ay, batch_size\u001b[39m=\u001b[39;49mbatch_size, epochs\u001b[39m=\u001b[39;49m\u001b[39m5\u001b[39;49m, verbose\u001b[39m=\u001b[39;49m\u001b[39m2\u001b[39;49m, validation_data\u001b[39m=\u001b[39;49m(vx,vy))\n",
      "File \u001b[1;32mc:\\Users\\leona\\AppData\\Local\\Programs\\Python\\Python310\\lib\\site-packages\\keras\\utils\\traceback_utils.py:67\u001b[0m, in \u001b[0;36mfilter_traceback.<locals>.error_handler\u001b[1;34m(*args, **kwargs)\u001b[0m\n\u001b[0;32m     65\u001b[0m \u001b[39mexcept\u001b[39;00m \u001b[39mException\u001b[39;00m \u001b[39mas\u001b[39;00m e:  \u001b[39m# pylint: disable=broad-except\u001b[39;00m\n\u001b[0;32m     66\u001b[0m   filtered_tb \u001b[39m=\u001b[39m _process_traceback_frames(e\u001b[39m.\u001b[39m__traceback__)\n\u001b[1;32m---> 67\u001b[0m   \u001b[39mraise\u001b[39;00m e\u001b[39m.\u001b[39mwith_traceback(filtered_tb) \u001b[39mfrom\u001b[39;00m \u001b[39mNone\u001b[39m\n\u001b[0;32m     68\u001b[0m \u001b[39mfinally\u001b[39;00m:\n\u001b[0;32m     69\u001b[0m   \u001b[39mdel\u001b[39;00m filtered_tb\n",
      "File \u001b[1;32mc:\\Users\\leona\\AppData\\Local\\Programs\\Python\\Python310\\lib\\site-packages\\tensorflow\\python\\framework\\ops.py:4103\u001b[0m, in \u001b[0;36mGraph._get_operation_by_name_unsafe\u001b[1;34m(self, name)\u001b[0m\n\u001b[0;32m   4100\u001b[0m   \u001b[39mreturn\u001b[39;00m \u001b[39mself\u001b[39m\u001b[39m.\u001b[39m_nodes_by_name[name]\n\u001b[0;32m   4102\u001b[0m \u001b[39mwith\u001b[39;00m \u001b[39mself\u001b[39m\u001b[39m.\u001b[39m_lock:\n\u001b[1;32m-> 4103\u001b[0m   \u001b[39mreturn\u001b[39;00m \u001b[39mself\u001b[39;49m\u001b[39m.\u001b[39;49m_nodes_by_name[name]\n",
      "\u001b[1;31mKeyError\u001b[0m: 'model_1/conv2_block1_2_conv/Conv2D'"
     ]
    }
   ],
   "source": [
    "#Nao permite treinar base_model. So as camadas densas sao treinadas:\n",
    "for layer in base_model.layers: layer.trainable = False\n",
    "#Treina com learning rate grande\n",
    "otimizador=keras.optimizers.Adam(learning_rate=1e-3)\n",
    "model.compile(otimizador, loss='categorical_crossentropy', metrics =['accuracy'])\n",
    "model.fit(ax, ay, batch_size=batch_size, epochs=5, verbose=2, validation_data=(vx,vy))"
   ]
  },
  {
   "cell_type": "code",
   "execution_count": null,
   "metadata": {},
   "outputs": [],
   "source": [
    "score = model.evaluate(ax, ay, verbose=0); print('Training loss:', score)\n",
    "score = model.evaluate(vx, vy, verbose=0); print('Validation loss:', score)\n",
    "score = model.evaluate(qx, qy, verbose=0); print('Test loss:', score)"
   ]
  },
  {
   "cell_type": "code",
   "execution_count": null,
   "metadata": {},
   "outputs": [],
   "source": [
    "#Libera todos layers do model para treinar:\n",
    "for layer in model.layers: layer.trainable = True\n",
    "#Treina com learning rate pequena todas as camadas\n",
    "otimizador=keras.optimizers.Adam(learning_rate=1e-6)\n",
    "model.compile(otimizador, loss='categorical_crossentropy', metrics =['accuracy'])\n",
    "model.fit(ax, ay, batch_size=batch_size, epochs=5, verbose=2, validation_data=(vx,vy))"
   ]
  },
  {
   "cell_type": "code",
   "execution_count": null,
   "metadata": {},
   "outputs": [],
   "source": [
    "score = model.evaluate(ax, ay, verbose=0); print('Training loss:', score)\n",
    "score = model.evaluate(vx, vy, verbose=0); print('Validation loss:', score)\n",
    "score = model.evaluate(qx, qy, verbose=0); print('Test loss:', score)\n",
    "model.save(nomeprog+\".h5\")\n"
   ]
  }
 ],
 "metadata": {
  "kernelspec": {
   "display_name": "Python 3.10.4 64-bit",
   "language": "python",
   "name": "python3"
  },
  "language_info": {
   "codemirror_mode": {
    "name": "ipython",
    "version": 3
   },
   "file_extension": ".py",
   "mimetype": "text/x-python",
   "name": "python",
   "nbconvert_exporter": "python",
   "pygments_lexer": "ipython3",
   "version": "3.10.4"
  },
  "orig_nbformat": 4,
  "vscode": {
   "interpreter": {
    "hash": "9be826744cc5714b462ad0c8de88bfa6f016a48973c6317b9546595d1685cabb"
   }
  }
 },
 "nbformat": 4,
 "nbformat_minor": 2
}
