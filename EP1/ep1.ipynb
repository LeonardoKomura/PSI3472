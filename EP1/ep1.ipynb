{
 "cells": [
  {
   "cell_type": "code",
   "execution_count": 5,
   "metadata": {},
   "outputs": [],
   "source": [
    "import os; os.environ['TF_CPP_MIN_LOG_LEVEL']='3'\n",
    "os.environ['TF_FORCE_GPU_ALLOW_GROWTH'] = 'true'\n",
    "import tensorflow as tf\n",
    "from tensorflow import keras\n",
    "from keras.models import Sequential\n",
    "from keras.preprocessing.image import ImageDataGenerator\n",
    "from keras.layers import Dropout, Conv2D, MaxPooling2D, Dense, Flatten, BatchNormalization\n",
    "from keras import optimizers\n",
    "import matplotlib.pyplot as plt; import numpy as np\n",
    "import cv2"
   ]
  },
  {
   "cell_type": "code",
   "execution_count": null,
   "metadata": {},
   "outputs": [],
   "source": [
    "#get_bd.py\n",
    "#url=\"http://www.lps.usp.br/hae/psi3472/ep-2020/feiFrontG2C.zip\"\n",
    "#import os; nomeArq=os.path.split(url)[1]\n",
    "#if not os.path.exists(nomeArq):\n",
    "#    print(\"Baixando o arquivo\",nomeArq,\"para diretorio default\",os.getcwd())\n",
    "#    os.system(\"wget -nc -U 'Firefox/50.0' \"+url)\n",
    "#else:\n",
    "#    print(\"O arquivo\",nomeArq,\"ja existe no diretorio default\",os.getcwd())\n",
    "#print(\"Descompactando arquivos novos de\",nomeArq)\n",
    "#os.system(\"unzip -u \"+nomeArq"
   ]
  },
  {
   "cell_type": "code",
   "execution_count": 7,
   "metadata": {},
   "outputs": [],
   "source": [
    "def readTrain():\n",
    "    n = 150\n",
    "    rows = 360\n",
    "    columns = 260\n",
    "    AX=np.empty((2*n,rows,columns),np.uint8)\n",
    "    AY=np.empty((2*n,rows,columns),np.uint8)\n",
    "    \n",
    "    k = 0\n",
    "    for i in range(n):\n",
    "        if(i < 100):\n",
    "            ac = \"/Images/\" + \"00\" + str(i+1) + \"ac\" + \".\" + \"jpg\"\n",
    "            al = \"/Images/\" + \"00\" + str(i+1) + \"al\" + \".\" + \"jpg\"\n",
    "            bc = \"/Images/\" + \"00\" + str(i+1) + \"bc\" + \".\" + \"jpg\"\n",
    "            bl = \"/Images/\" + \"00\" + str(i+1) + \"bl\" + \".\" + \"jpg\"\n",
    "        else:\n",
    "            ac = \"/Images/\" + str(i+1) + \"ac\" + \".\" + \"jpg\"\n",
    "            al = \"/Images/\" + str(i+1) + \"al\" + \".\" + \"jpg\"\n",
    "            bc = \"/Images/\" + str(i+1) + \"bc\" + \".\" + \"jpg\"\n",
    "            bl = \"/Images/\" + str(i+1) + \"bl\" + \".\" + \"jpg\"\n",
    "            \n",
    "        AC = cv2.imread(ac,cv2.IMREAD_COLOR)\n",
    "        AL = cv2.imread(al,cv2.IMREAD_GRAYSCALE)\n",
    "        BC = cv2.imread(bc,cv2.IMREAD_COLOR)\n",
    "        BL = cv2.imread(al,cv2.IMREAD_GRAYSCALE)\n",
    "        \n",
    "        AX[k,:,:] = AC\n",
    "        AX[k+1,:,:] = BC\n",
    "        AY[k,:,:] = BC\n",
    "        AY[k+1,:,:] = BL\n",
    "        \n",
    "        k = k+2\n",
    "    \n",
    "    return AX, AY\n",
    "        \n",
    "def readTest():\n",
    "    n = 50\n",
    "    rows = 360\n",
    "    columns = 260\n",
    "    \n",
    "    QX=np.empty((2*n,rows,columns),np.uint8)\n",
    "    QY=np.empty((2*n,rows,columns),np.uint8)\n",
    "    \n",
    "    k = 0\n",
    "    for i in range(150, 200):\n",
    "        ac = \"/Images/\" + str(i+1) + \"ac\" + \".\" + \"jpg\"\n",
    "        al = \"/Images/\" + str(i+1) + \"al\" + \".\" + \"jpg\"\n",
    "        bc = \"/Images/\" + str(i+1) + \"bc\" + \".\" + \"jpg\"\n",
    "        bl = \"/Images/\" + str(i+1) + \"bl\" + \".\" + \"jpg\"\n",
    "            \n",
    "        AC = cv2.imread(ac,cv2.IMREAD_COLOR)\n",
    "        AL = cv2.imread(al,cv2.IMREAD_GRAYSCALE)\n",
    "        BC = cv2.imread(bc,cv2.IMREAD_COLOR)\n",
    "        BL = cv2.imread(al,cv2.IMREAD_GRAYSCALE)\n",
    "        \n",
    "        QX[k,:,:] = AC\n",
    "        QX[k+1,:,:] = BC\n",
    "        QY[k,:,:] = BC\n",
    "        QY[k+1,:,:] = BL\n",
    "        \n",
    "        k = k+2\n",
    "    return QX, QY"
   ]
  }
 ],
 "metadata": {
  "kernelspec": {
   "display_name": "Python 3.10.4 64-bit",
   "language": "python",
   "name": "python3"
  },
  "language_info": {
   "codemirror_mode": {
    "name": "ipython",
    "version": 3
   },
   "file_extension": ".py",
   "mimetype": "text/x-python",
   "name": "python",
   "nbconvert_exporter": "python",
   "pygments_lexer": "ipython3",
   "version": "3.10.4"
  },
  "orig_nbformat": 4,
  "vscode": {
   "interpreter": {
    "hash": "916dbcbb3f70747c44a77c7bcd40155683ae19c65e1c03b4aa3499c5328201f1"
   }
  }
 },
 "nbformat": 4,
 "nbformat_minor": 2
}
