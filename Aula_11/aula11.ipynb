{
 "cells": [
  {
   "cell_type": "code",
   "execution_count": 1,
   "metadata": {},
   "outputs": [],
   "source": [
    "import sys\n",
    "import numpy as np\n",
    "import pandas as pd\n",
    "from matplotlib.pyplot import imread\n",
    "import pickle, os, cv2, time\n",
    "import matplotlib.pyplot as plt\n",
    "\n",
    "import tensorflow as tf\n",
    "from keras.models import Sequential, load_model\n",
    "from keras.optimizers import Adam\n",
    "from keras.layers import Conv2D, ZeroPadding2D, Activation, Input, concatenate\n",
    "import keras.initializers as initializers\n",
    "from keras.models import Model\n",
    "from keras.layers import BatchNormalization, MaxPooling2D, Concatenate\n",
    "from keras.layers import Layer, Lambda, Flatten, Dense\n",
    "from keras.initializers import glorot_uniform\n",
    "from keras.regularizers import l2\n",
    "from keras import backend as K\n",
    "from sklearn.utils import shuffle\n",
    "import numpy.random as rng"
   ]
  },
  {
   "cell_type": "code",
   "execution_count": 2,
   "metadata": {},
   "outputs": [
    {
     "name": "stdout",
     "output_type": "stream",
     "text": [
      "O arquivo oneshot.h5 ja existe no diretorio default d:\\Faculdade\\PSI3472\\Aula_11\n"
     ]
    }
   ],
   "source": [
    "# Execute esta celula para carregar a rede ja treinada\n",
    "import os; import gdown\n",
    "url=\"https://drive.google.com/uc?id=1PAyiW-0_dyti5Fdp_qwgQRqGen4GwY7q\"\n",
    "nomeArq=\"oneshot.h5\"\n",
    "if not os.path.exists(nomeArq):\n",
    " print(\"Baixando o arquivo\",nomeArq,\"para diretorio default\",os.getcwd())\n",
    " gdown.download(url, nomeArq, quiet=False)\n",
    "else:\n",
    " print(\"O arquivo\",nomeArq,\"ja existe no diretorio default\",os.getcwd())\n",
    "model=load_model(\"oneshot.h5\")\n"
   ]
  },
  {
   "cell_type": "code",
   "execution_count": 3,
   "metadata": {},
   "outputs": [
    {
     "name": "stdout",
     "output_type": "stream",
     "text": [
      "Baixando o arquivo images_background.zip para diretorio default d:\\Faculdade\\PSI3472\\Aula_11\n",
      "Descompactando arquivos novos de images_background.zip\n",
      "Baixando o arquivo images_evaluation.zip para diretorio default d:\\Faculdade\\PSI3472\\Aula_11\n",
      "Descompactando arquivos novos de images_evaluation.zip\n"
     ]
    }
   ],
   "source": [
    "import os; \n",
    "lista=['https://github.com/brendenlake/omniglot/raw/master/python/images_background.zip', \\\n",
    "     'https://github.com/brendenlake/omniglot/raw/master/python/images_evaluation.zip']\n",
    "for url in lista:\n",
    "  nomeArq=os.path.split(url)[1]\n",
    "  if not os.path.exists(nomeArq):\n",
    "    print(\"Baixando o arquivo\",nomeArq,\"para diretorio default\",os.getcwd())\n",
    "    os.system(\"wget -nc -U 'Firefox/50.0' \"+url)\n",
    "  else:\n",
    "    print(\"O arquivo\",nomeArq,\"ja existe no diretorio default\",os.getcwd())\n",
    "  print(\"Descompactando arquivos novos de\",nomeArq)  \n",
    "  os.system(\"unzip -u \"+nomeArq) "
   ]
  },
  {
   "cell_type": "code",
   "execution_count": 4,
   "metadata": {},
   "outputs": [
    {
     "name": "stdout",
     "output_type": "stream",
     "text": [
      "loading alphabet: Alphabet_of_the_Magi\n",
      "loading alphabet: Anglo-Saxon_Futhorc\n",
      "loading alphabet: Arcadian\n",
      "loading alphabet: Armenian\n",
      "loading alphabet: Asomtavruli_(Georgian)\n",
      "loading alphabet: Balinese\n",
      "loading alphabet: Bengali\n",
      "loading alphabet: Blackfoot_(Canadian_Aboriginal_Syllabics)\n",
      "loading alphabet: Braille\n",
      "loading alphabet: Burmese_(Myanmar)\n",
      "loading alphabet: Cyrillic\n",
      "loading alphabet: Early_Aramaic\n",
      "loading alphabet: Futurama\n",
      "loading alphabet: Grantha\n",
      "loading alphabet: Greek\n",
      "loading alphabet: Gujarati\n",
      "loading alphabet: Hebrew\n",
      "loading alphabet: Inuktitut_(Canadian_Aboriginal_Syllabics)\n",
      "loading alphabet: Japanese_(hiragana)\n",
      "loading alphabet: Japanese_(katakana)\n",
      "loading alphabet: Korean\n",
      "loading alphabet: Latin\n",
      "loading alphabet: Malay_(Jawi_-_Arabic)\n",
      "loading alphabet: Mkhedruli_(Georgian)\n",
      "loading alphabet: N_Ko\n",
      "loading alphabet: Ojibwe_(Canadian_Aboriginal_Syllabics)\n",
      "loading alphabet: Sanskrit\n",
      "loading alphabet: Syriac_(Estrangelo)\n",
      "loading alphabet: Tagalog\n",
      "loading alphabet: Tifinagh\n",
      "loading alphabet: Angelic\n",
      "loading alphabet: Atemayar_Qelisayer\n",
      "loading alphabet: Atlantean\n",
      "loading alphabet: Aurek-Besh\n",
      "loading alphabet: Avesta\n",
      "loading alphabet: Ge_ez\n",
      "loading alphabet: Glagolitic\n",
      "loading alphabet: Gurmukhi\n",
      "loading alphabet: Kannada\n",
      "loading alphabet: Keble\n",
      "loading alphabet: Malayalam\n",
      "loading alphabet: Manipuri\n",
      "loading alphabet: Mongolian\n",
      "loading alphabet: Old_Church_Slavonic_(Cyrillic)\n",
      "loading alphabet: Oriya\n",
      "loading alphabet: Sylheti\n",
      "loading alphabet: Syriac_(Serto)\n",
      "loading alphabet: Tengwar\n",
      "loading alphabet: Tibetan\n",
      "loading alphabet: ULOG\n"
     ]
    }
   ],
   "source": [
    "train_folder = \"./images_background/\"\n",
    "val_folder = './images_evaluation/'\n",
    "save_path = './'\n",
    "model_path = './'\n",
    "\n",
    "# Funcao para carregar imagens\n",
    "def loadimgs(path,n = 0):\n",
    "    #path => Path of train directory or test directory\n",
    "    X=[]; y=[]\n",
    "    cat_dict = {}; lang_dict = {}; curr_y = n\n",
    "    # we load every alphabet seperately so we can isolate them later\n",
    "    for alphabet in os.listdir(path):\n",
    "        print(\"loading alphabet: \" + alphabet)\n",
    "        lang_dict[alphabet] = [curr_y,None]\n",
    "        alphabet_path = os.path.join(path,alphabet)\n",
    "        for letter in os.listdir(alphabet_path):\n",
    "            cat_dict[curr_y] = (alphabet, letter)\n",
    "            category_images=[]\n",
    "            letter_path = os.path.join(alphabet_path, letter)\n",
    "            # read all the images in the current category\n",
    "            for filename in os.listdir(letter_path):\n",
    "                image_path = os.path.join(letter_path, filename)\n",
    "                image = imread(image_path)\n",
    "                category_images.append(image)\n",
    "                y.append(curr_y)\n",
    "            try:\n",
    "                X.append(np.stack(category_images))\n",
    "            # edge case  - last one\n",
    "            except ValueError as e:\n",
    "                print(e); print(\"error - category_images:\", category_images)\n",
    "            curr_y += 1\n",
    "            lang_dict[alphabet][1] = curr_y - 1\n",
    "    y = np.vstack(y); X = np.stack(X)\n",
    "    return X,y,lang_dict\n",
    "\n",
    "# Carrega as imagens de treino\n",
    "Xtrain,ytrain,train_classes=loadimgs(train_folder)\n",
    "\n",
    "# Carrega as imagens de teste\n",
    "Xval,yval,val_classes=loadimgs(val_folder)"
   ]
  },
  {
   "cell_type": "code",
   "execution_count": 5,
   "metadata": {},
   "outputs": [],
   "source": [
    "# Funcao que pega uma lote de pares de imagens\n",
    "# Duas primeiras imagens tem a mesma classe, resto diferente\n",
    "def get_batch(batch_size,s=\"train\"):\n",
    "    if s == 'train':\n",
    "        X = Xtrain; categories = train_classes; replace=False\n",
    "    else:\n",
    "        X = Xval; categories = val_classes; replace=True\n",
    "    n_classes, n_examples, w, h = X.shape\n",
    "\n",
    "    categories = rng.choice(n_classes,size=(batch_size,),replace=replace)\n",
    "    pairs=[np.zeros((batch_size, h, w,1)) for i in range(2)]\n",
    "    targets=np.ones((batch_size,))\n",
    "    targets[0] = 0\n",
    "    targets[1:batch_size]\n",
    "    for i in range(batch_size):\n",
    "        category = categories[i]\n",
    "        idx_1 = rng.randint(0, n_examples)\n",
    "        pairs[0][i,:,:,:] = X[category, idx_1].reshape(w, h, 1)\n",
    "        idx_2 = rng.randint(0, n_examples)\n",
    "        # pick images of same class for the two first images, different for the rest\n",
    "        if i == 0:\n",
    "            category_2 = category  \n",
    "        else: \n",
    "            # add a random number to the category modulo n classes to ensure 2nd image has a different category\n",
    "            category_2 = (category + rng.randint(1,n_classes)) % n_classes\n",
    "        pairs[1][i,:,:,:] = X[category_2,idx_2].reshape(w, h,1)\n",
    "    return pairs, targets"
   ]
  },
  {
   "cell_type": "code",
   "execution_count": 6,
   "metadata": {},
   "outputs": [],
   "source": [
    "ax, ay = get_batch(8)"
   ]
  },
  {
   "cell_type": "code",
   "execution_count": 7,
   "metadata": {},
   "outputs": [
    {
     "data": {
      "text/plain": [
       "<matplotlib.image.AxesImage at 0x2250a6145b0>"
      ]
     },
     "execution_count": 7,
     "metadata": {},
     "output_type": "execute_result"
    },
    {
     "data": {
      "image/png": "[encoded data removed]",
      "text/plain": [
       "<Figure size 432x288 with 1 Axes>"
      ]
     },
     "metadata": {
      "needs_background": "light"
     },
     "output_type": "display_data"
    }
   ],
   "source": [
    "plt.imshow(np.squeeze(ax[0][0]), cmap=\"gray\")"
   ]
  },
  {
   "cell_type": "code",
   "execution_count": 8,
   "metadata": {},
   "outputs": [
    {
     "data": {
      "image/png": "[encoded data removed]",
      "text/plain": [
       "<Figure size 144x576 with 16 Axes>"
      ]
     },
     "metadata": {
      "needs_background": "light"
     },
     "output_type": "display_data"
    }
   ],
   "source": [
    "f = plt.figure(figsize=(2,8))\n",
    "for i in range(8):\n",
    "  f.add_subplot(8,2,2*i+1)\n",
    "  plt.imshow(np.squeeze(ax[0][i]), cmap=\"gray\")\n",
    "  plt.axis(\"off\");\n",
    "  f.add_subplot(8,2,2*i+2)\n",
    "  plt.imshow(np.squeeze(ax[1][i]), cmap=\"gray\")\n",
    "  plt.axis(\"off\");\n",
    "  plt.text(0, 2,int(ay[i]),color=\"r\")\n",
    "plt.savefig(\"oneshot_pares.png\")\n",
    "plt.show()"
   ]
  },
  {
   "cell_type": "code",
   "execution_count": 15,
   "metadata": {},
   "outputs": [
    {
     "name": "stdout",
     "output_type": "stream",
     "text": [
      "[0.93082887]\n"
     ]
    }
   ],
   "source": [
    "pred = 0\n",
    "n = 1000\n",
    "for i in range(n):\n",
    "    ax, ay = get_batch(8)\n",
    "    ap = model.predict(ax, verbose=0)\n",
    "    pred = pred + ap[0]\n",
    "precision = (n-pred)/n\n",
    "print(precision)"
   ]
  }
 ],
 "metadata": {
  "kernelspec": {
   "display_name": "Python 3.10.4 64-bit",
   "language": "python",
   "name": "python3"
  },
  "language_info": {
   "codemirror_mode": {
    "name": "ipython",
    "version": 3
   },
   "file_extension": ".py",
   "mimetype": "text/x-python",
   "name": "python",
   "nbconvert_exporter": "python",
   "pygments_lexer": "ipython3",
   "version": "3.10.4"
  },
  "orig_nbformat": 4,
  "vscode": {
   "interpreter": {
    "hash": "9be826744cc5714b462ad0c8de88bfa6f016a48973c6317b9546595d1685cabb"
   }
  }
 },
 "nbformat": 4,
 "nbformat_minor": 2
}
