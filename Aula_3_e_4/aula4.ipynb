{
 "cells": [
  {
   "cell_type": "code",
   "execution_count": 1,
<<<<<<< HEAD
   "metadata": {},
   "outputs": [],
   "source": [
    "# André Lucas Pierote Rodrigues Vasconcelos 11356540\n",
    "# Leonardo Isao Komura 11261656"
   ]
  },
  {
   "cell_type": "code",
   "execution_count": 2,
=======
>>>>>>> c2bfcb1 (aula6)
   "metadata": {},
   "outputs": [],
   "source": [
    "import os; os.environ['TF_CPP_MIN_LOG_LEVEL']='3'\n",
    "os.environ['TF_FORCE_GPU_ALLOW_GROWTH'] = 'true'\n",
    "import tensorflow as tf\n",
    "import tensorflow.keras as keras\n",
    "from tensorflow.keras.datasets import mnist\n",
    "from tensorflow.keras.models import Sequential\n",
    "from tensorflow.keras.layers import Dropout, Conv2D, MaxPooling2D, Dense, Flatten, BatchNormalization\n",
    "from tensorflow.keras import optimizers\n",
    "from tensorflow.keras.callbacks import ReduceLROnPlateau\n",
    "from matplotlib import image\n",
    "from matplotlib import pyplot as plt\n",
    "import numpy as np; import sys"
   ]
  },
  {
   "cell_type": "code",
<<<<<<< HEAD
   "execution_count": 3,
=======
   "execution_count": 2,
>>>>>>> c2bfcb1 (aula6)
   "metadata": {},
   "outputs": [
    {
     "name": "stdout",
     "output_type": "stream",
     "text": [
      "Downloading data from https://storage.googleapis.com/tensorflow/keras-applications/resnet/resnet50_weights_tf_dim_ordering_tf_kernels.h5\n",
      "102967424/102967424 [==============================] - 8s 0us/step\n"
     ]
    }
   ],
   "source": [
    "from tensorflow.keras.applications.resnet50 import ResNet50\n",
    "from tensorflow.keras.preprocessing import image\n",
    "from tensorflow.keras.applications.resnet50 import preprocess_input, decode_predictions\n",
    "\n",
    "model = ResNet50(weights='imagenet')"
   ]
  },
  {
   "cell_type": "code",
<<<<<<< HEAD
   "execution_count": 4,
=======
   "execution_count": 3,
>>>>>>> c2bfcb1 (aula6)
   "metadata": {},
   "outputs": [],
   "source": [
    "banana = preprocess_input(np.expand_dims(image.img_to_array(image.load_img('banana.png', target_size=(224, 224))), axis=0))\n",
    "hamburguer = preprocess_input(np.expand_dims(image.img_to_array(image.load_img('hamburguer.png', target_size=(224, 224))), axis=0))\n",
    "bola = preprocess_input(np.expand_dims(image.img_to_array(image.load_img('bola.png', target_size=(224, 224))), axis=0))"
   ]
  },
  {
   "cell_type": "code",
<<<<<<< HEAD
   "execution_count": 5,
=======
   "execution_count": 4,
>>>>>>> c2bfcb1 (aula6)
   "metadata": {},
   "outputs": [
    {
     "name": "stdout",
     "output_type": "stream",
     "text": [
      "1/1 [==============================] - 2s 2s/step\n",
      "Downloading data from https://storage.googleapis.com/download.tensorflow.org/data/imagenet_class_index.json\n",
      "35363/35363 [==============================] - 0s 0us/step\n",
      "Predicted: [('n07753592', 'banana', 0.99999464), ('n03532672', 'hook', 3.9854626e-06), ('n07747607', 'orange', 5.866019e-07)]\n",
<<<<<<< HEAD
      "1/1 [==============================] - 0s 147ms/step\n",
      "Predicted: [('n07697313', 'cheeseburger', 0.99954635), ('n07693725', 'bagel', 0.00031359796), ('n07583066', 'guacamole', 0.00012603508)]\n",
      "1/1 [==============================] - 0s 135ms/step\n",
=======
      "1/1 [==============================] - 0s 78ms/step\n",
      "Predicted: [('n07697313', 'cheeseburger', 0.99954647), ('n07693725', 'bagel', 0.000313598), ('n07583066', 'guacamole', 0.0001260351)]\n",
      "1/1 [==============================] - 0s 92ms/step\n",
>>>>>>> c2bfcb1 (aula6)
      "Predicted: [('n04254680', 'soccer_ball', 0.99999297), ('n03530642', 'honeycomb', 6.7591664e-06), ('n04540053', 'volleyball', 1.6344576e-07)]\n"
     ]
    }
   ],
   "source": [
    "preds = model.predict(banana)\n",
    "print('Predicted:', decode_predictions(preds, top=3)[0])\n",
    "\n",
    "preds = model.predict(hamburguer)\n",
    "print('Predicted:', decode_predictions(preds, top=3)[0])\n",
    "\n",
    "preds = model.predict(bola)\n",
    "print('Predicted:', decode_predictions(preds, top=3)[0])"
   ]
  }
 ],
 "metadata": {
  "kernelspec": {
   "display_name": "Python 3.10.4 64-bit",
   "language": "python",
   "name": "python3"
  },
  "language_info": {
   "codemirror_mode": {
    "name": "ipython",
    "version": 3
   },
   "file_extension": ".py",
   "mimetype": "text/x-python",
   "name": "python",
   "nbconvert_exporter": "python",
   "pygments_lexer": "ipython3",
   "version": "3.10.4"
  },
  "orig_nbformat": 4,
  "vscode": {
   "interpreter": {
    "hash": "9be826744cc5714b462ad0c8de88bfa6f016a48973c6317b9546595d1685cabb"
   }
  }
 },
 "nbformat": 4,
 "nbformat_minor": 2
}
