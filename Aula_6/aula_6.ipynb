{
  "cells": [
    {
      "cell_type": "code",
      "execution_count": 16,
      "metadata": {
        "id": "_Giwj8gMBDuI"
      },
      "outputs": [],
      "source": [
        "import os; os.environ['TF_CPP_MIN_LOG_LEVEL']='3'\n",
        "os.environ['TF_FORCE_GPU_ALLOW_GROWTH'] = 'true'\n",
        "import tensorflow as tf\n",
        "import tensorflow.keras as keras\n",
        "from tensorflow.keras.datasets import cifar10\n",
        "from tensorflow.keras.models import Sequential\n",
        "from tensorflow.keras.preprocessing.image import ImageDataGenerator\n",
        "from tensorflow.keras.layers import Dropout, Conv2D, MaxPooling2D, Dense, Flatten, BatchNormalization\n",
        "from tensorflow.keras import optimizers\n",
        "import matplotlib.pyplot as plt; import numpy as np"
      ]
    },
    {
      "cell_type": "code",
      "execution_count": 17,
      "metadata": {
        "id": "4OlRQDm9BDuL"
      },
      "outputs": [],
      "source": [
        "def impHistoria(history):\n",
        "    print(history.history.keys())\n",
        "    plt.plot(history.history['accuracy']); plt.plot(history.history['val_accuracy'])\n",
        "    plt.title('model accuracy'); plt.ylabel('accuracy'); plt.xlabel('epoch')\n",
        "    plt.legend(['train', 'test'], loc='upper left'); plt.show()\n",
        "    plt.plot(history.history['loss']); plt.plot(history.history['val_loss'])\n",
        "    plt.title('model loss'); plt.ylabel('loss'); plt.xlabel('epoch')\n",
        "    plt.legend(['train', 'test'], loc='upper left'); plt.show()"
      ]
    },
    {
      "cell_type": "code",
      "execution_count": 18,
      "metadata": {
        "id": "VezMnKWaBDuN"
      },
      "outputs": [],
      "source": [
        "batch_size = 100; num_classes = 10; epochs = 30\n",
        "nl, nc = 32,32; input_shape = (nl, nc, 3)\n",
        "from keras.datasets import fashion_mnist\n",
        "(ax, ay), (qx, qy) = fashion_mnist.load_data()\n",
        "ax = ax.astype('float32'); ax /= 255 #0 a 1\n",
        "qx = qx.astype('float32'); qx /= 255 #0 a 1\n",
        "ay = keras.utils.to_categorical(ay, num_classes)\n",
        "qy = keras.utils.to_categorical(qy, num_classes)"
      ]
    },
    {
      "cell_type": "code",
      "execution_count": 19,
      "metadata": {
        "colab": {
          "base_uri": "https://localhost:8080/",
          "height": 265
        },
        "id": "_OTCfDexBDuO",
        "outputId": "83a1ff51-499b-49c3-ddd3-71f8dd1773c3"
      },
      "outputs": [
        {
          "data": {
            "image/png": "[encoded data removed]",
            "text/plain": [
              "<Figure size 432x288 with 1 Axes>"
            ]
          },
          "metadata": {
            "needs_background": "light"
          },
          "output_type": "display_data"
        }
      ],
      "source": [
        "imgplot = plt.imshow(ax[0], cmap='gray')\n",
        "plt.show()"
      ]
    },
    {
      "cell_type": "code",
      "execution_count": 20,
      "metadata": {
        "id": "gzRz9R7uBDuP"
      },
      "outputs": [],
      "source": [
        "from PIL import Image\n",
        "n = ax.shape[0]\n",
        "new_ax = np.ndarray((n, 32, 32))\n",
        "for i in range(n):\n",
        "    image = Image.fromarray(ax[i])\n",
        "    new_ax[i] = image.resize((32,32))\n",
        "\n",
        "n = qx.shape[0]\n",
        "new_qx = np.ndarray((n, 32, 32))\n",
        "for i in range(n):\n",
        "    image2 = Image.fromarray(qx[i])\n",
        "    new_qx[i] = image2.resize((32,32))"
      ]
    },
    {
      "cell_type": "code",
      "execution_count": 21,
      "metadata": {
        "id": "vr1IYL_-BDuQ"
      },
      "outputs": [],
      "source": [
        "from keras import backend as K\n",
        "def grayscale_to_rgb(images, channel_axis=-1):\n",
        "    images= K.expand_dims(images, axis=channel_axis)\n",
        "    tiling = [1] * 4    # 4 dimensions: B, H, W, C\n",
        "    tiling[channel_axis] *= 3\n",
        "    images= K.tile(images, tiling)\n",
        "    return images"
      ]
    },
    {
      "cell_type": "code",
      "execution_count": 22,
      "metadata": {
        "id": "6iszQ1QjBDuT"
      },
      "outputs": [],
      "source": [
        "final_ax = grayscale_to_rgb(new_ax)\n",
        "final_qx = grayscale_to_rgb(new_qx)"
      ]
    },
    {
      "cell_type": "code",
      "execution_count": 23,
      "metadata": {
        "colab": {
          "base_uri": "https://localhost:8080/",
          "height": 283
        },
        "id": "3pqf8pxlBDuT",
        "outputId": "973d7efb-f626-43d4-c7ec-a9a96cb6c632"
      },
      "outputs": [
        {
          "name": "stderr",
          "output_type": "stream",
          "text": [
            "WARNING:matplotlib.image:Clipping input data to the valid range for imshow with RGB data ([0..1] for floats or [0..255] for integers).\n"
          ]
        },
        {
          "data": {
            "image/png": "[encoded data removed]",
            "text/plain": [
              "<Figure size 432x288 with 1 Axes>"
            ]
          },
          "metadata": {
            "needs_background": "light"
          },
          "output_type": "display_data"
        }
      ],
      "source": [
        "imgplot = plt.imshow(final_ax[0], cmap='gray')\n",
        "plt.show()"
      ]
    },
    {
      "cell_type": "code",
      "execution_count": 24,
      "metadata": {
        "id": "3xfJHurrBDuV"
      },
      "outputs": [],
      "source": [
        "model = Sequential()\n",
        "model.add(Conv2D(64, kernel_size=(3,3), activation='relu', padding='same', input_shape=input_shape))\n",
        "model.add(BatchNormalization())\n",
        "model.add(Dropout(0.3))\n",
        "model.add(Conv2D(64, kernel_size=(3,3), activation='relu', padding='same'))\n",
        "model.add(BatchNormalization())\n",
        "model.add(MaxPooling2D(pool_size=(2,2))) #20x16x16x3\n",
        "model.add(Conv2D(128, kernel_size=(3,3), activation='relu', padding='same'))\n",
        "model.add(BatchNormalization())\n",
        "model.add(Dropout(0.3))\n",
        "model.add(Conv2D(128, kernel_size=(3,3), activation='relu', padding='same'))\n",
        "model.add(BatchNormalization())\n",
        "model.add(MaxPooling2D(pool_size=(2,2))) #40x8x8x3\n",
        "model.add(Conv2D(256, kernel_size=(3,3), activation='relu', padding='same'))\n",
        "model.add(BatchNormalization())\n",
        "model.add(Dropout(0.3))\n",
        "model.add(Conv2D(256, kernel_size=(3,3), activation='relu', padding='same'))\n",
        "model.add(BatchNormalization())\n",
        "model.add(MaxPooling2D(pool_size=(2,2))) #80x4x4x3\n",
        "model.add(Conv2D(512, kernel_size=(3,3), activation='relu', padding='same')) #160x4x4x3\n",
        "model.add(BatchNormalization())\n",
        "model.add(Dropout(0.3))\n",
        "model.add(Conv2D(512, kernel_size=(3,3), activation='relu', padding='same')) #160x4x4x3\n",
        "model.add(BatchNormalization())\n",
        "model.add(Dropout(0.3))\n",
        "model.add(Conv2D(512, kernel_size=(3,3), activation='relu', padding='same')) #160x4x4x3\n",
        "model.add(BatchNormalization())\n",
        "model.add(MaxPooling2D(pool_size=(2,2))) #160x2x2x3\n",
        "model.add(Conv2D(512, kernel_size=(3,3), activation='relu', padding='same')) #160x2x2x3\n",
        "model.add(BatchNormalization())\n",
        "model.add(Dropout(0.3))\n",
        "model.add(Conv2D(512, kernel_size=(3,3), activation='relu', padding='same')) #160x2x2x3\n",
        "model.add(BatchNormalization())\n",
        "model.add(Dropout(0.3))\n",
        "model.add(Conv2D(512, kernel_size=(3,3), activation='relu', padding='same')) #160x2x2x3\n",
        "model.add(BatchNormalization())\n",
        "model.add(MaxPooling2D(pool_size=(2,2))) #160x1x1x3\n",
        "model.add(Flatten())\n",
        "model.add(Dense(512,activation='relu'))\n",
        "model.add(BatchNormalization())\n",
        "model.add(Dropout(0.3))\n",
        "model.add(Dense(num_classes,activation='softmax'))"
      ]
    },
    {
      "cell_type": "code",
      "execution_count": 25,
      "metadata": {
        "colab": {
          "base_uri": "https://localhost:8080/"
        },
        "id": "FTrGm4AbBDuW",
        "outputId": "f65b5dfb-5dbc-4a3f-c791-2c77e985073a"
      },
      "outputs": [
        {
          "name": "stdout",
          "output_type": "stream",
          "text": [
            "Model: \"sequential_1\"\n",
            "_________________________________________________________________\n",
            " Layer (type)                Output Shape              Param #   \n",
            "=================================================================\n",
            " conv2d_12 (Conv2D)          (None, 32, 32, 64)        1792      \n",
            "                                                                 \n",
            " batch_normalization_13 (Bat  (None, 32, 32, 64)       256       \n",
            " chNormalization)                                                \n",
            "                                                                 \n",
            " dropout_8 (Dropout)         (None, 32, 32, 64)        0         \n",
            "                                                                 \n",
            " conv2d_13 (Conv2D)          (None, 32, 32, 64)        36928     \n",
            "                                                                 \n",
            " batch_normalization_14 (Bat  (None, 32, 32, 64)       256       \n",
            " chNormalization)                                                \n",
            "                                                                 \n",
            " max_pooling2d_5 (MaxPooling  (None, 16, 16, 64)       0         \n",
            " 2D)                                                             \n",
            "                                                                 \n",
            " conv2d_14 (Conv2D)          (None, 16, 16, 128)       73856     \n",
            "                                                                 \n",
            " batch_normalization_15 (Bat  (None, 16, 16, 128)      512       \n",
            " chNormalization)                                                \n",
            "                                                                 \n",
            " dropout_9 (Dropout)         (None, 16, 16, 128)       0         \n",
            "                                                                 \n",
            " conv2d_15 (Conv2D)          (None, 16, 16, 128)       147584    \n",
            "                                                                 \n",
            " batch_normalization_16 (Bat  (None, 16, 16, 128)      512       \n",
            " chNormalization)                                                \n",
            "                                                                 \n",
            " max_pooling2d_6 (MaxPooling  (None, 8, 8, 128)        0         \n",
            " 2D)                                                             \n",
            "                                                                 \n",
            " conv2d_16 (Conv2D)          (None, 8, 8, 256)         295168    \n",
            "                                                                 \n",
            " batch_normalization_17 (Bat  (None, 8, 8, 256)        1024      \n",
            " chNormalization)                                                \n",
            "                                                                 \n",
            " dropout_10 (Dropout)        (None, 8, 8, 256)         0         \n",
            "                                                                 \n",
            " conv2d_17 (Conv2D)          (None, 8, 8, 256)         590080    \n",
            "                                                                 \n",
            " batch_normalization_18 (Bat  (None, 8, 8, 256)        1024      \n",
            " chNormalization)                                                \n",
            "                                                                 \n",
            " max_pooling2d_7 (MaxPooling  (None, 4, 4, 256)        0         \n",
            " 2D)                                                             \n",
            "                                                                 \n",
            " conv2d_18 (Conv2D)          (None, 4, 4, 512)         1180160   \n",
            "                                                                 \n",
            " batch_normalization_19 (Bat  (None, 4, 4, 512)        2048      \n",
            " chNormalization)                                                \n",
            "                                                                 \n",
            " dropout_11 (Dropout)        (None, 4, 4, 512)         0         \n",
            "                                                                 \n",
            " conv2d_19 (Conv2D)          (None, 4, 4, 512)         2359808   \n",
            "                                                                 \n",
            " batch_normalization_20 (Bat  (None, 4, 4, 512)        2048      \n",
            " chNormalization)                                                \n",
            "                                                                 \n",
            " dropout_12 (Dropout)        (None, 4, 4, 512)         0         \n",
            "                                                                 \n",
            " conv2d_20 (Conv2D)          (None, 4, 4, 512)         2359808   \n",
            "                                                                 \n",
            " batch_normalization_21 (Bat  (None, 4, 4, 512)        2048      \n",
            " chNormalization)                                                \n",
            "                                                                 \n",
            " max_pooling2d_8 (MaxPooling  (None, 2, 2, 512)        0         \n",
            " 2D)                                                             \n",
            "                                                                 \n",
            " conv2d_21 (Conv2D)          (None, 2, 2, 512)         2359808   \n",
            "                                                                 \n",
            " batch_normalization_22 (Bat  (None, 2, 2, 512)        2048      \n",
            " chNormalization)                                                \n",
            "                                                                 \n",
            " dropout_13 (Dropout)        (None, 2, 2, 512)         0         \n",
            "                                                                 \n",
            " conv2d_22 (Conv2D)          (None, 2, 2, 512)         2359808   \n",
            "                                                                 \n",
            " batch_normalization_23 (Bat  (None, 2, 2, 512)        2048      \n",
            " chNormalization)                                                \n",
            "                                                                 \n",
            " dropout_14 (Dropout)        (None, 2, 2, 512)         0         \n",
            "                                                                 \n",
            " conv2d_23 (Conv2D)          (None, 2, 2, 512)         2359808   \n",
            "                                                                 \n",
            " batch_normalization_24 (Bat  (None, 2, 2, 512)        2048      \n",
            " chNormalization)                                                \n",
            "                                                                 \n",
            " max_pooling2d_9 (MaxPooling  (None, 1, 1, 512)        0         \n",
            " 2D)                                                             \n",
            "                                                                 \n",
            " flatten_1 (Flatten)         (None, 512)               0         \n",
            "                                                                 \n",
            " dense_2 (Dense)             (None, 512)               262656    \n",
            "                                                                 \n",
            " batch_normalization_25 (Bat  (None, 512)              2048      \n",
            " chNormalization)                                                \n",
            "                                                                 \n",
            " dropout_15 (Dropout)        (None, 512)               0         \n",
            "                                                                 \n",
            " dense_3 (Dense)             (None, 10)                5130      \n",
            "                                                                 \n",
            "=================================================================\n",
            "Total params: 14,410,314\n",
            "Trainable params: 14,401,354\n",
            "Non-trainable params: 8,960\n",
            "_________________________________________________________________\n"
          ]
        }
      ],
      "source": [
        "from tensorflow.keras.utils import plot_model\n",
        "plot_model(model, to_file='vgg3.png', show_shapes=True); model.summary()"
      ]
    },
    {
      "cell_type": "code",
      "execution_count": 26,
      "metadata": {
        "id": "kFvGYpPPBDuX"
      },
      "outputs": [],
      "source": [
        "datagen = ImageDataGenerator(\n",
        "    featurewise_center=False, # set input mean to 0 over the dataset\n",
        "    samplewise_center=False, # set each sample mean to 0\n",
        "    featurewise_std_normalization=False, # divide inputs by std of the dataset\n",
        "    samplewise_std_normalization=False, # divide each input by its std\n",
        "    zca_whitening=False, # apply ZCA whitening\n",
        "    rotation_range=15, # randomly rotate images in the range (degrees, 0 to 180)\n",
        "    width_shift_range=0.1, # randomly shift images horizontally (fraction of total width)\n",
        "    height_shift_range=0.1, # randomly shift images vertically (fraction of total height)\n",
        "    horizontal_flip=False, # randomly flip images\n",
        "    vertical_flip=False) # randomly flip images\n",
        "datagen.fit(final_ax)"
      ]
    },
    {
      "cell_type": "code",
      "execution_count": 27,
      "metadata": {
        "colab": {
          "base_uri": "https://localhost:8080/",
          "height": 1000
        },
        "id": "b3If82EgBDuZ",
        "outputId": "769f07aa-613b-48f2-e10a-393052a0f950"
      },
      "outputs": [
        {
          "name": "stdout",
          "output_type": "stream",
          "text": [
            "Epoch 1/30\n",
            "600/600 - 40s - loss: 0.7529 - accuracy: 0.7160 - val_loss: 0.5856 - val_accuracy: 0.7864 - 40s/epoch - 66ms/step\n",
            "Epoch 2/30\n",
            "600/600 - 38s - loss: 0.4956 - accuracy: 0.8153 - val_loss: 0.4318 - val_accuracy: 0.8474 - 38s/epoch - 64ms/step\n",
            "Epoch 3/30\n",
            "600/600 - 38s - loss: 0.4132 - accuracy: 0.8474 - val_loss: 0.4899 - val_accuracy: 0.8440 - 38s/epoch - 63ms/step\n",
            "Epoch 4/30\n",
            "600/600 - 38s - loss: 0.3683 - accuracy: 0.8660 - val_loss: 0.3607 - val_accuracy: 0.8763 - 38s/epoch - 63ms/step\n",
            "Epoch 5/30\n",
            "600/600 - 38s - loss: 0.3426 - accuracy: 0.8744 - val_loss: 0.4377 - val_accuracy: 0.8625 - 38s/epoch - 63ms/step\n",
            "Epoch 6/30\n",
            "600/600 - 38s - loss: 0.3230 - accuracy: 0.8838 - val_loss: 0.3205 - val_accuracy: 0.8889 - 38s/epoch - 63ms/step\n",
            "Epoch 7/30\n",
            "600/600 - 38s - loss: 0.3094 - accuracy: 0.8874 - val_loss: 0.3038 - val_accuracy: 0.8963 - 38s/epoch - 63ms/step\n",
            "Epoch 8/30\n",
            "600/600 - 38s - loss: 0.2963 - accuracy: 0.8920 - val_loss: 0.3409 - val_accuracy: 0.8798 - 38s/epoch - 63ms/step\n",
            "Epoch 9/30\n",
            "600/600 - 38s - loss: 0.2812 - accuracy: 0.8993 - val_loss: 0.2558 - val_accuracy: 0.9114 - 38s/epoch - 63ms/step\n",
            "Epoch 10/30\n",
            "600/600 - 38s - loss: 0.2743 - accuracy: 0.9007 - val_loss: 0.2905 - val_accuracy: 0.8995 - 38s/epoch - 63ms/step\n",
            "Epoch 11/30\n",
            "600/600 - 38s - loss: 0.2703 - accuracy: 0.9033 - val_loss: 0.2848 - val_accuracy: 0.9048 - 38s/epoch - 63ms/step\n",
            "Epoch 12/30\n",
            "600/600 - 40s - loss: 0.2577 - accuracy: 0.9078 - val_loss: 0.2762 - val_accuracy: 0.9045 - 40s/epoch - 67ms/step\n",
            "Epoch 13/30\n",
            "600/600 - 38s - loss: 0.2504 - accuracy: 0.9107 - val_loss: 0.2359 - val_accuracy: 0.9188 - 38s/epoch - 63ms/step\n",
            "Epoch 14/30\n",
            "600/600 - 40s - loss: 0.2412 - accuracy: 0.9126 - val_loss: 0.3016 - val_accuracy: 0.8997 - 40s/epoch - 67ms/step\n",
            "Epoch 15/30\n",
            "600/600 - 38s - loss: 0.2381 - accuracy: 0.9136 - val_loss: 0.2211 - val_accuracy: 0.9218 - 38s/epoch - 63ms/step\n",
            "Epoch 16/30\n",
            "600/600 - 40s - loss: 0.2281 - accuracy: 0.9183 - val_loss: 0.2509 - val_accuracy: 0.9168 - 40s/epoch - 67ms/step\n",
            "Epoch 17/30\n",
            "600/600 - 40s - loss: 0.2278 - accuracy: 0.9187 - val_loss: 0.2479 - val_accuracy: 0.9132 - 40s/epoch - 67ms/step\n",
            "Epoch 18/30\n",
            "600/600 - 38s - loss: 0.2198 - accuracy: 0.9217 - val_loss: 0.2258 - val_accuracy: 0.9220 - 38s/epoch - 63ms/step\n",
            "Epoch 19/30\n",
            "600/600 - 40s - loss: 0.2104 - accuracy: 0.9244 - val_loss: 0.2298 - val_accuracy: 0.9227 - 40s/epoch - 67ms/step\n",
            "Epoch 20/30\n",
            "600/600 - 40s - loss: 0.2084 - accuracy: 0.9251 - val_loss: 0.2516 - val_accuracy: 0.9153 - 40s/epoch - 67ms/step\n",
            "Epoch 21/30\n",
            "600/600 - 38s - loss: 0.1994 - accuracy: 0.9278 - val_loss: 0.2027 - val_accuracy: 0.9259 - 38s/epoch - 63ms/step\n",
            "Epoch 22/30\n",
            "600/600 - 38s - loss: 0.1953 - accuracy: 0.9296 - val_loss: 0.2120 - val_accuracy: 0.9275 - 38s/epoch - 63ms/step\n",
            "Epoch 23/30\n",
            "600/600 - 38s - loss: 0.1925 - accuracy: 0.9305 - val_loss: 0.2069 - val_accuracy: 0.9299 - 38s/epoch - 63ms/step\n",
            "Epoch 24/30\n",
            "600/600 - 38s - loss: 0.1870 - accuracy: 0.9323 - val_loss: 0.1978 - val_accuracy: 0.9297 - 38s/epoch - 63ms/step\n",
            "Epoch 25/30\n",
            "600/600 - 38s - loss: 0.1838 - accuracy: 0.9344 - val_loss: 0.2022 - val_accuracy: 0.9297 - 38s/epoch - 63ms/step\n",
            "Epoch 26/30\n",
            "600/600 - 37s - loss: 0.1796 - accuracy: 0.9351 - val_loss: 0.2186 - val_accuracy: 0.9275 - 37s/epoch - 62ms/step\n",
            "Epoch 27/30\n",
            "600/600 - 38s - loss: 0.1769 - accuracy: 0.9365 - val_loss: 0.2079 - val_accuracy: 0.9323 - 38s/epoch - 63ms/step\n",
            "Epoch 28/30\n",
            "600/600 - 38s - loss: 0.1720 - accuracy: 0.9386 - val_loss: 0.2303 - val_accuracy: 0.9259 - 38s/epoch - 63ms/step\n",
            "Epoch 29/30\n",
            "600/600 - 38s - loss: 0.1680 - accuracy: 0.9387 - val_loss: 0.1959 - val_accuracy: 0.9334 - 38s/epoch - 63ms/step\n",
            "Epoch 30/30\n",
            "600/600 - 38s - loss: 0.1639 - accuracy: 0.9405 - val_loss: 0.1959 - val_accuracy: 0.9356 - 38s/epoch - 63ms/step\n",
            "dict_keys(['loss', 'accuracy', 'val_loss', 'val_accuracy'])\n"
          ]
        },
        {
          "data": {
            "image/png": "[encoded data removed]",
            "text/plain": [
              "<Figure size 432x288 with 1 Axes>"
            ]
          },
          "metadata": {
            "needs_background": "light"
          },
          "output_type": "display_data"
        },
        {
          "data": {
            "image/png": "[encoded data removed]",
            "text/plain": [
              "<Figure size 432x288 with 1 Axes>"
            ]
          },
          "metadata": {
            "needs_background": "light"
          },
          "output_type": "display_data"
        }
      ],
      "source": [
        "opt=optimizers.Adam()\n",
        "model.compile(optimizer=opt, loss='categorical_crossentropy', metrics=['accuracy'])\n",
        "history=model.fit(datagen.flow(final_ax,ay,batch_size=batch_size), steps_per_epoch=ax.shape[0]//batch_size,\n",
        "    epochs=epochs, verbose=2, validation_data=(final_qx, qy))\n",
        "impHistoria(history)"
      ]
    },
    {
      "cell_type": "code",
      "execution_count": 28,
      "metadata": {
        "colab": {
          "base_uri": "https://localhost:8080/"
        },
        "id": "5GUvEv0IBDuZ",
        "outputId": "0527b4f4-44fc-475b-bfe4-3ae586466029"
      },
      "outputs": [
        {
          "name": "stdout",
          "output_type": "stream",
          "text": [
            "Test loss: 0.1959449052810669\n",
            "Test accuracy: 0.9355999827384949\n"
          ]
        }
      ],
      "source": [
        "score = model.evaluate(final_qx, qy, verbose=0)\n",
        "print('Test loss:', score[0]); print('Test accuracy:', score[1])\n",
        "model.save('vgg3.h5')"
      ]
    }
  ],
  "metadata": {
    "accelerator": "GPU",
    "colab": {
      "collapsed_sections": [],
      "name": "Copy of aula6.ipynb",
      "provenance": []
    },
    "gpuClass": "standard",
    "kernelspec": {
      "display_name": "Python 3.10.4 64-bit",
      "language": "python",
      "name": "python3"
    },
    "language_info": {
      "codemirror_mode": {
        "name": "ipython",
        "version": 3
      },
      "file_extension": ".py",
      "mimetype": "text/x-python",
      "name": "python",
      "nbconvert_exporter": "python",
      "pygments_lexer": "ipython3",
      "version": "3.10.4"
    },
    "vscode": {
      "interpreter": {
        "hash": "9be826744cc5714b462ad0c8de88bfa6f016a48973c6317b9546595d1685cabb"
      }
    }
  },
  "nbformat": 4,
  "nbformat_minor": 0
}
