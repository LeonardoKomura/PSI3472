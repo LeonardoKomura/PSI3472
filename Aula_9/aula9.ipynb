{
 "cells": [
  {
   "cell_type": "code",
   "execution_count": 6,
   "metadata": {},
   "outputs": [],
   "source": [
    "import os; os.environ['TF_CPP_MIN_LOG_LEVEL']='3'\n",
    "os.environ['TF_FORCE_GPU_ALLOW_GROWTH'] = 'true'\n",
    "import numpy as np;\n",
    "from tensorflow import keras \n",
    "import keras.backend as K\n",
    "from keras.datasets import cifar10\n",
    "from keras.models import Model, load_model\n",
    "from keras.preprocessing.image import ImageDataGenerator"
   ]
  },
  {
   "cell_type": "code",
   "execution_count": 7,
   "metadata": {},
   "outputs": [],
   "source": [
    "num_classes = 10\n",
    "(ax, ay), (qx, qy) = cifar10.load_data()\n",
    "input_shape = (32, 32, 3)\n",
    "ax = ax.astype('float32'); ax /= 255 #0 a 1\n",
    "qx = qx.astype('float32'); qx /= 255 #0 a 1\n",
    "ax -= 0.5; qx -= 0.5 #-0.5 a +0.5\n",
    "ay = keras.utils.to_categorical(ay, num_classes);\n",
    "qy = keras.utils.to_categorical(qy, num_classes)"
   ]
  },
  {
   "cell_type": "code",
   "execution_count": 8,
   "metadata": {},
   "outputs": [],
   "source": [
    "# Fazendo a distorção\n",
    "test_datagen = ImageDataGenerator(\n",
    "    shear_range=0.1,\n",
    "    zoom_range=0.1,\n",
    "    horizontal_flip=True,\n",
    "    rotation_range=10.,\n",
    "    fill_mode='nearest', \n",
    "    width_shift_range = 0.1, \n",
    "    height_shift_range = 0.1\n",
    ")"
   ]
  },
  {
   "cell_type": "code",
   "execution_count": 9,
   "metadata": {},
   "outputs": [],
   "source": [
    "model = load_model(\"resnet1.h5\")"
   ]
  },
  {
   "cell_type": "code",
   "execution_count": 10,
   "metadata": {},
   "outputs": [
    {
     "name": "stderr",
     "output_type": "stream",
     "text": [
      "  0%|          | 0/10 [00:00<?, ?it/s]C:\\Users\\leona\\AppData\\Local\\Temp\\ipykernel_11052\\3543264825.py:6: UserWarning: `Model.predict_generator` is deprecated and will be removed in a future version. Please use `Model.predict`, which supports generators.\n",
      "  preds = model.predict_generator(test_datagen.flow(qx, batch_size=64, shuffle=False), steps = len(qx)/64)\n",
      "100%|██████████| 10/10 [02:01<00:00, 12.10s/it]\n"
     ]
    },
    {
     "data": {
      "text/plain": [
       "0.931"
      ]
     },
     "execution_count": 10,
     "metadata": {},
     "output_type": "execute_result"
    }
   ],
   "source": [
    "tta_steps = 10\n",
    "predictions = []\n",
    "\n",
    "from tqdm import tqdm\n",
    "for i in tqdm(range(tta_steps)):\n",
    "    preds = model.predict_generator(test_datagen.flow(qx, batch_size=64, shuffle=False), steps = len(qx)/64)\n",
    "    predictions.append(preds)\n",
    "\n",
    "pred = np.mean(predictions, axis=0)\n",
    "\n",
    "np.mean(np.equal(np.argmax(qy, axis=-1), np.argmax(pred, axis=-1)))"
   ]
  }
 ],
 "metadata": {
  "kernelspec": {
   "display_name": "Python 3.10.4 64-bit",
   "language": "python",
   "name": "python3"
  },
  "language_info": {
   "codemirror_mode": {
    "name": "ipython",
    "version": 3
   },
   "file_extension": ".py",
   "mimetype": "text/x-python",
   "name": "python",
   "nbconvert_exporter": "python",
   "pygments_lexer": "ipython3",
   "version": "3.10.4"
  },
  "orig_nbformat": 4,
  "vscode": {
   "interpreter": {
    "hash": "9be826744cc5714b462ad0c8de88bfa6f016a48973c6317b9546595d1685cabb"
   }
  }
 },
 "nbformat": 4,
 "nbformat_minor": 2
}
