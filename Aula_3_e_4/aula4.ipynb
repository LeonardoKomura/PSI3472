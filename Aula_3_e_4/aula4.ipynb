{
 "cells": [
  {
   "cell_type": "code",
   "execution_count": 5,
   "metadata": {},
   "outputs": [],
   "source": [
    "import os; os.environ['TF_CPP_MIN_LOG_LEVEL']='3'\n",
    "os.environ['TF_FORCE_GPU_ALLOW_GROWTH'] = 'true'\n",
    "import tensorflow as tf\n",
    "import tensorflow.keras as keras\n",
    "from tensorflow.keras.datasets import mnist\n",
    "from tensorflow.keras.models import Sequential\n",
    "from tensorflow.keras.layers import Dropout, Conv2D, MaxPooling2D, Dense, Flatten, BatchNormalization\n",
    "from tensorflow.keras import optimizers\n",
    "from tensorflow.keras.callbacks import ReduceLROnPlateau\n",
    "from matplotlib import image\n",
    "from matplotlib import pyplot as plt\n",
    "import numpy as np; import sys"
   ]
  },
  {
   "cell_type": "code",
   "execution_count": 6,
   "metadata": {},
   "outputs": [],
   "source": [
    "from tensorflow.keras.applications.resnet50 import ResNet50\n",
    "from tensorflow.keras.preprocessing import image\n",
    "from tensorflow.keras.applications.resnet50 import preprocess_input, decode_predictions\n",
    "\n",
    "model = ResNet50(weights='imagenet')"
   ]
  },
  {
   "cell_type": "code",
   "execution_count": 7,
   "metadata": {},
   "outputs": [],
   "source": [
    "banana = preprocess_input(np.expand_dims(image.img_to_array(image.load_img('banana.png', target_size=(224, 224))), axis=0))\n",
    "hamburguer = preprocess_input(np.expand_dims(image.img_to_array(image.load_img('hamburguer.png', target_size=(224, 224))), axis=0))\n",
    "bola = preprocess_input(np.expand_dims(image.img_to_array(image.load_img('bola.png', target_size=(224, 224))), axis=0))"
   ]
  },
  {
   "cell_type": "code",
   "execution_count": 8,
   "metadata": {},
   "outputs": [
    {
     "name": "stdout",
     "output_type": "stream",
     "text": [
      "1/1 [==============================] - 1s 1s/step\n",
      "Predicted: [('n07753592', 'banana', 0.99999464), ('n03532672', 'hook', 3.9854626e-06), ('n07747607', 'orange', 5.866019e-07)]\n",
      "1/1 [==============================] - 0s 139ms/step\n",
      "Predicted: [('n07697313', 'cheeseburger', 0.99954647), ('n07693725', 'bagel', 0.000313598), ('n07583066', 'guacamole', 0.0001260351)]\n",
      "1/1 [==============================] - 0s 96ms/step\n",
      "Predicted: [('n04037443', 'racer', 0.47095188), ('n04465501', 'tractor', 0.38897225), ('n04461696', 'tow_truck', 0.034972064)]\n"
     ]
    }
   ],
   "source": [
    "preds = model.predict(banana)\n",
    "print('Predicted:', decode_predictions(preds, top=3)[0])\n",
    "\n",
    "preds = model.predict(hamburguer)\n",
    "print('Predicted:', decode_predictions(preds, top=3)[0])\n",
    "\n",
    "preds = model.predict(bola)\n",
    "print('Predicted:', decode_predictions(preds, top=3)[0])"
   ]
  }
 ],
 "metadata": {
  "kernelspec": {
   "display_name": "Python 3.10.4 64-bit",
   "language": "python",
   "name": "python3"
  },
  "language_info": {
   "codemirror_mode": {
    "name": "ipython",
    "version": 3
   },
   "file_extension": ".py",
   "mimetype": "text/x-python",
   "name": "python",
   "nbconvert_exporter": "python",
   "pygments_lexer": "ipython3",
   "version": "3.10.4"
  },
  "orig_nbformat": 4,
  "vscode": {
   "interpreter": {
    "hash": "916dbcbb3f70747c44a77c7bcd40155683ae19c65e1c03b4aa3499c5328201f1"
   }
  }
 },
 "nbformat": 4,
 "nbformat_minor": 2
}
